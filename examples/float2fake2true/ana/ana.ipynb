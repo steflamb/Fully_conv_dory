{
 "cells": [
  {
   "cell_type": "markdown",
   "id": "384016b1",
   "metadata": {},
   "source": [
    "# Quantizing a neural network using the *additive noise annealing* algorithm\n",
    "\n",
    "In this notebook we will introduce the `quantlib` tools that enable the structural transformations inherent to the training and deployment of a *quantized neural network* (QNN):\n",
    "\n",
    "* floating-point to fake-quantized (*float2fake*);\n",
    "* fake-quantized to true-quantized (*fake2true*).\n",
    "\n",
    "In this notebook we will not discuss the training process itself.\n",
    "\n",
    "\n",
    "## Post-training quantization algorithms vs. quantization-aware training algorithms\n",
    "\n",
    "Quantization algorithms for deep neural networks come in two flavours:\n",
    "\n",
    "* *post-training quantization* algorithms: these algorithms take in input trained floating-point networks and output quantized counterparts that use quantized operands;\n",
    "* *quantization-aware training algorithms: at training time, these algorithms map quantized values into floating-point numeric ranges to ease learning; after training, specific arithmetic conversions allow to transform the trained floating-point program into a quantized program.\n",
    "\n",
    "Post-training quantization algorithms are desirable for several reasons, the most important ones being data privacy and ease of application.\n",
    "The main drawback of post-training quantization algorithms are that they do not work well when involving \"aggressive\" quantization schemes (i.e., quantization schemes using less than four bits per operand): in such cases, the statistical accuracy of the quantized networks drop significantly with respect to that of the original floating-point programs.\n",
    "\n",
    "For this reason, when targetting extremely resource-constrained computers that benefit from using specialised accelerators, quantization-aware training algorithms are the preferred choice.\n",
    "\n",
    "In this notebook we will focus on a quantization-aware training algorithm called *additive noise annealing* (ANA).\n",
    "\n",
    "\n",
    "## The structure of the `quantlib` package\n",
    "\n",
    "The `quantlib.algorithms` package consists of several sub-packages providing the building blocks to build DNNs that can be trained using state-of-the-art quantization-aware training algorithms.\n",
    "\n",
    "Of course, the user can manually define new PyTorch networks using such building blocks.\n",
    "Sometimes, though, before implementing a brand-new DNN topology by hand it might be worth it to try and quantize an existing floating-point topology that has shown good performance at the target task.\n",
    "In this case, the network's PyTorch definition might already be available, and it is preferable to replace its floating-point operations with counterparts that support quantization in an automated way, without the hazards inherent to manual rewriting.\n",
    "The facilities to perform such *float2fake* conversions are implemented in the `quantlib.editing.lightweight` sub-package.\n",
    "\n",
    "After training, a fake-quantized network is in general not yet ready to be executed on energy-efficient hardware.\n",
    "This limitation is due to several reasons.\n",
    "Some examples:\n",
    "\n",
    "* the quantized operands (weights, features, or both) are \"immersed\" in some floating-point range, a numeric representation that nullifies the benefits of quantization;\n",
    "* batch normalisation operations, where the channel means, standard deviations, weights and biases are represented by floating-point numbers, are still executed.\n",
    "\n",
    "Enabling execution on energy-efficient hardware requires the user to transform the program in such a way that these operations are removed, while at the same time preserving the functional mapping performed.\n",
    "This *fake2true* conversion process usually necessitates a complete overview of the low-level operations that are executed under the hood by a PyTorch fake-quantized networks, including their connectivity and the data format (type and precision) of their operands.\n",
    "Since PyTorch build computational graphs dynamically, deriving information about the connectivity requires *tracing* a fake-quantized graph.\n",
    "After this step, *graph rewriting* and *arithmetic conversion* will be involved.\n",
    "The facilities to perform these actions are implemented in the `quantlib.editing.graphs` sub-package.\n",
    "\n",
    "Since QNNs are often going to target hardware accelerators with specific ISAs, the agent performing a *fake2true* conversion must be aware of the properties of the underlying platform, which in `quantlib` jargon we refer to as a `backend`.\n",
    "For this reason, some of the abstractions defined in `quantlib.editing.graphs` are sub-classed by entities defined in modules belonging to sub-packages of the `quantlib.backends` package.\n",
    "\n",
    "To summarise:\n",
    "\n",
    "* *float2fake* conversions take as inputs floating-point PyTorch DNNs and use the facilities defined in the `quantlib.editing.lighweight` package to return fake-quantized QNNs;\n",
    "* *fake2true* conversions take as inputs fake-quantized QNNs and use the facilities defined in the `quantlib.editing.graphs` and (some of) the facilities defined in the `quantlib.backends` package to return a software \"golden model\" of the program that will actually run on the target device.\n"
   ]
  },
  {
   "cell_type": "markdown",
   "id": "eb5de7ee",
   "metadata": {},
   "source": [
    "## Quantizing a VGG8 on CIFAR-10 with ANA targetting CUTIE\n",
    "\n",
    "As a guiding example, we will go through the process of quantizing a simple feedforward *convolutional neural network* (CNN) topology (VGG8) to process CIFAR-10 RGB images.\n"
   ]
  },
  {
   "cell_type": "code",
   "execution_count": 1,
   "id": "75d3aa47",
   "metadata": {},
   "outputs": [],
   "source": [
    "import torch\n",
    "import torch.nn as nn\n",
    "\n",
    "\n",
    "_CONFIGS = {\n",
    "    'VGG8': ['M', 256, 256, 'M', 512, 512, 'M'],\n",
    "    'VGG9': [128, 'M', 256, 256, 'M', 512, 512, 'M'],\n",
    "    'VGG11': [128, 'M', 256, 256, 256, 'M', 512, 512, 512, 'M'],\n",
    "}\n",
    "\n",
    "\n",
    "class VGG(nn.Module):\n",
    "\n",
    "    def __init__(self, config: str, capacity: int = 1, use_bn_features: bool = False, use_bn_classifier: bool = False, num_classes: int = 10, seed: int = -1) -> None:\n",
    "\n",
    "        super(VGG, self).__init__()\n",
    "\n",
    "        self.pilot      = self._make_pilot(capacity, use_bn_features)\n",
    "        self.features   = self._make_features(config, capacity, use_bn_features)\n",
    "        self.avgpool    = nn.AdaptiveAvgPool2d((4, 4))\n",
    "        self.classifier = self._make_classifier(capacity, use_bn_classifier, num_classes)\n",
    "\n",
    "        self._initialize_weights(seed=seed)\n",
    "\n",
    "    @staticmethod\n",
    "    def _make_pilot(capacity: int, use_bn_features: bool) -> nn.Sequential:\n",
    "\n",
    "        modules = []\n",
    "        modules += [nn.Conv2d(3, 128 * capacity, kernel_size=3, padding=1, bias=not use_bn_features)]\n",
    "        modules += [nn.BatchNorm2d(128 * capacity)] if use_bn_features else []\n",
    "        modules += [nn.ReLU(inplace=True)]\n",
    "\n",
    "        return nn.Sequential(*modules)\n",
    "\n",
    "    @staticmethod\n",
    "    def _make_features(config: str, capacity: int, use_bn_features: bool) -> nn.Sequential:\n",
    "\n",
    "        modules = []\n",
    "        in_channels = 128 * capacity\n",
    "        for v in _CONFIGS[config]:\n",
    "            if v == 'M':\n",
    "                modules += [nn.MaxPool2d(kernel_size=2, stride=2)]\n",
    "            else:\n",
    "                out_channels = v * capacity\n",
    "                modules += [nn.Conv2d(in_channels, out_channels, kernel_size=3, padding=1, bias=not use_bn_features)]\n",
    "                modules += [nn.BatchNorm2d(out_channels)] if use_bn_features else []\n",
    "                modules += [nn.ReLU(inplace=True)]\n",
    "                in_channels = out_channels\n",
    "\n",
    "        return nn.Sequential(*modules)\n",
    "\n",
    "    @staticmethod\n",
    "    def _make_classifier(capacity: int, use_bn_classifier: bool, num_classes: int) -> nn.Sequential:\n",
    "\n",
    "        modules = []\n",
    "        modules += [nn.Linear(512 * capacity * 4 * 4, 1024, bias=not use_bn_classifier)]\n",
    "        modules += [nn.BatchNorm1d(1024)] if use_bn_classifier else []\n",
    "        modules += [nn.ReLU(inplace=True)]\n",
    "        modules += [] if use_bn_classifier else [nn.Dropout()]\n",
    "        modules += [nn.Linear(1024, 1024, bias=not use_bn_classifier)]\n",
    "        modules += [nn.BatchNorm1d(1024)] if use_bn_classifier else []\n",
    "        modules += [nn.ReLU(inplace=True)]\n",
    "        modules += [] if use_bn_classifier else [nn.Dropout()]\n",
    "        modules += [nn.Linear(1024, num_classes)]\n",
    "\n",
    "        return nn.Sequential(*modules)\n",
    "\n",
    "    def forward(self, x: torch.Tensor) -> torch.Tensor:\n",
    "\n",
    "        x = self.pilot(x)\n",
    "        x = self.features(x)\n",
    "        x = self.avgpool(x)\n",
    "\n",
    "        x = x.view(x.size(0), -1)  # https://stackoverflow.com/questions/57234095/what-is-the-difference-of-flatten-and-view-1-in-pytorch\n",
    "\n",
    "        x = self.classifier(x)\n",
    "\n",
    "        return x\n",
    "\n",
    "    def _initialize_weights(self, seed: int):\n",
    "\n",
    "        if seed >= 0:\n",
    "            torch.manual_seed(seed)\n",
    "\n",
    "        for m in self.modules():\n",
    "\n",
    "            if isinstance(m, nn.Conv2d):\n",
    "                nn.init.kaiming_normal_(m.weight, mode='fan_out', nonlinearity='relu')\n",
    "                if m.bias is not None:\n",
    "                    nn.init.constant_(m.bias, 0)\n",
    "\n",
    "            elif isinstance(m, nn.BatchNorm2d):\n",
    "                nn.init.constant_(m.weight, 1)\n",
    "                nn.init.constant_(m.bias, 0)\n",
    "\n",
    "            elif isinstance(m, nn.Linear):\n",
    "                nn.init.normal_(m.weight, 0, 0.01)\n",
    "                if m.bias is not None:\n",
    "                    nn.init.constant_(m.bias, 0)\n"
   ]
  },
  {
   "cell_type": "code",
   "execution_count": 2,
   "id": "c6074c9c",
   "metadata": {},
   "outputs": [],
   "source": [
    "net = VGG('VGG8', use_bn_features=True, use_bn_classifier=True)"
   ]
  },
  {
   "cell_type": "markdown",
   "id": "f435970f",
   "metadata": {},
   "source": [
    "We aim at quantizing both its weights and features to ternary values (*ternary neural network*, TNN), and at deriving a software golden model for a program running on the *completely unrolled ternary inference engine* (CUTIE) TNN accelerator.\n",
    "\n",
    "The chosen quantization-aware training algorithm is the *additive noise annealing* (ANA) algorithm.\n",
    "Loosely speaking, this algorithm replaces non-differentiable quantizers with almost-everywhere differentiable counterparts obtained by applying the expectation operator to quantizers that take noisy inputs.\n",
    "As the training algorithm progresses, the noise distribution is collapsed to a Dirac's delta, resulting in the differentiable function being \"frozen\" into the non-differentiable quantizer.\n"
   ]
  },
  {
   "cell_type": "code",
   "execution_count": 3,
   "id": "bea49c1b",
   "metadata": {},
   "outputs": [
    {
     "data": {
      "image/png": "[encoded data removed]",
      "text/plain": [
       "<Figure size 432x288 with 1 Axes>"
      ]
     },
     "metadata": {
      "needs_background": "light"
     },
     "output_type": "display_data"
    },
    {
     "data": {
      "image/png": "[encoded data removed]",
      "text/plain": [
       "<Figure size 432x288 with 1 Axes>"
      ]
     },
     "metadata": {
      "needs_background": "light"
     },
     "output_type": "display_data"
    },
    {
     "data": {
      "image/png": "[encoded data removed]",
      "text/plain": [
       "<Figure size 432x288 with 1 Axes>"
      ]
     },
     "metadata": {
      "needs_background": "light"
     },
     "output_type": "display_data"
    },
    {
     "data": {
      "image/png": "[encoded data removed]",
      "text/plain": [
       "<Figure size 432x288 with 1 Axes>"
      ]
     },
     "metadata": {
      "needs_background": "light"
     },
     "output_type": "display_data"
    },
    {
     "data": {
      "image/png": "[encoded data removed]",
      "text/plain": [
       "<Figure size 432x288 with 1 Axes>"
      ]
     },
     "metadata": {
      "needs_background": "light"
     },
     "output_type": "display_data"
    }
   ],
   "source": [
    "import matplotlib.pyplot as plt\n",
    "\n",
    "import quantlib.algorithms as qa\n",
    "\n",
    "\n",
    "act = qa.ana.ANAActivation({'nbits': 2, 'signed': True, 'balanced': True, 'eps': 1.0}, 'normal')\n",
    "\n",
    "x = torch.arange(-4.0, 2.0, step=0.001).to(dtype=torch.float32)\n",
    "x.requires_grad = False\n",
    "\n",
    "for lambda_ in torch.arange(0.8, -0.1, step=-0.2):\n",
    "\n",
    "    act.set_fnoise(-lambda_, (-lambda_) ** 2)\n",
    "    y = act(x)\n",
    "\n",
    "    plt.scatter(x, y, s=1)\n",
    "    plt.show()\n"
   ]
  },
  {
   "cell_type": "markdown",
   "id": "55811aa8",
   "metadata": {},
   "source": [
    "## Converting a floating-point graph into a fake-quantized graph\n",
    "\n",
    "As described in the introduction, the `quantlib.editing.lightweight` sub-package provides the functionality to perform tree traversal and leaf replacement.\n",
    "In this section we will illustrate the main abstractions implemented in the package and how the user can use them to transform a floating-point PyTorch network into a fake-quantized one.\n",
    "\n",
    "We start by importing the corresponding namespace.\n"
   ]
  },
  {
   "cell_type": "code",
   "execution_count": 4,
   "id": "43e16296",
   "metadata": {},
   "outputs": [],
   "source": [
    "import quantlib.editing.lightweight as qlw"
   ]
  },
  {
   "cell_type": "markdown",
   "id": "856ef7ca",
   "metadata": {},
   "source": [
    "### DNNs in PyTorch\n",
    "\n",
    "In PyTorch, users can define DNNs as sub-classes of `torch.nn.Module`.\n",
    "We can distinguish between two main flavours of PyTorch modules:\n",
    "\n",
    "* *basic* modules;\n",
    "* *container* modules.\n",
    "\n",
    "Basic modules represent primitive transformations.\n",
    "Essentially, they are Python wrappers for operations that support automatic differentiation, hence enabling the execution of the back-propagation algorithm.\n",
    "Each basic module is characterised by a *type*\n",
    "\n",
    "Container modules are, well, containers for other PyTorch modules.\n",
    "The purpose of container modules is structuring the execution of their children modules.\n",
    "For instance, the purpose of a `torch.nn.Sequential` module is creating a composable pipeline of transformations that should be executed one after the other.\n",
    "The definition of a container module is recursive, in that the modules that it contains can be either container themselves or basic modules.\n",
    "In PyTorch, DNN objects are almost always containers.\n",
    "\n",
    "Due to the recursive nature of PyTorch modules, a PyTorch network object can be represented as a **tree** data structure.\n",
    "The root and intermediate nodes of such a tree are container modules, whereas its leaves are basic modules.\n",
    "Moreover, an alphanumeric string is attached to each node, allowing to refer them by *name*.\n",
    "\n",
    "\n",
    "### `LightweightGraph`\n",
    "\n",
    "Despite its name, a `LightweightGraph` is a wrapper structure around a `torch.nn.Module` object that provides a key functionality: the `rebuild_nodes_list` method traverses the tree of `torch.nn.Module`s and returns a list of `LightweightNode`.\n",
    "Each `LightweightNode` is a pair composed by:\n",
    "\n",
    "* a string concatenating the names of each traversed node, separated by dots;\n",
    "* a reference to a non-container `torch.nn.Module`.\n",
    "\n",
    "The list of `LightweightNode` (a private attribute denoted by `_nodes_list`) can be inspected using the method `show_nodes_list`.\n",
    "Instead of printing the reference to the `torch.nn.Module` component, its type will be printed instead; this design decision is important since in the context of of *float2fake* conversion we aim at replacing `torch.nn.Module` of specific types with fake-quantized counterparts.\n"
   ]
  },
  {
   "cell_type": "code",
   "execution_count": 5,
   "id": "2dd7e1d3",
   "metadata": {},
   "outputs": [
    {
     "name": "stdout",
     "output_type": "stream",
     "text": [
      "pilot.0                        <class 'torch.nn.modules.conv.Conv2d'>\n",
      "pilot.1                        <class 'torch.nn.modules.batchnorm.BatchNorm2d'>\n",
      "pilot.2                        <class 'torch.nn.modules.activation.ReLU'>\n",
      "features.0                     <class 'torch.nn.modules.pooling.MaxPool2d'>\n",
      "features.1                     <class 'torch.nn.modules.conv.Conv2d'>\n",
      "features.2                     <class 'torch.nn.modules.batchnorm.BatchNorm2d'>\n",
      "features.3                     <class 'torch.nn.modules.activation.ReLU'>\n",
      "features.4                     <class 'torch.nn.modules.conv.Conv2d'>\n",
      "features.5                     <class 'torch.nn.modules.batchnorm.BatchNorm2d'>\n",
      "features.6                     <class 'torch.nn.modules.activation.ReLU'>\n",
      "features.7                     <class 'torch.nn.modules.pooling.MaxPool2d'>\n",
      "features.8                     <class 'torch.nn.modules.conv.Conv2d'>\n",
      "features.9                     <class 'torch.nn.modules.batchnorm.BatchNorm2d'>\n",
      "features.10                    <class 'torch.nn.modules.activation.ReLU'>\n",
      "features.11                    <class 'torch.nn.modules.conv.Conv2d'>\n",
      "features.12                    <class 'torch.nn.modules.batchnorm.BatchNorm2d'>\n",
      "features.13                    <class 'torch.nn.modules.activation.ReLU'>\n",
      "features.14                    <class 'torch.nn.modules.pooling.MaxPool2d'>\n",
      "avgpool                        <class 'torch.nn.modules.pooling.AdaptiveAvgPool2d'>\n",
      "classifier.0                   <class 'torch.nn.modules.linear.Linear'>\n",
      "classifier.1                   <class 'torch.nn.modules.batchnorm.BatchNorm1d'>\n",
      "classifier.2                   <class 'torch.nn.modules.activation.ReLU'>\n",
      "classifier.3                   <class 'torch.nn.modules.linear.Linear'>\n",
      "classifier.4                   <class 'torch.nn.modules.batchnorm.BatchNorm1d'>\n",
      "classifier.5                   <class 'torch.nn.modules.activation.ReLU'>\n",
      "classifier.6                   <class 'torch.nn.modules.linear.Linear'>\n"
     ]
    }
   ],
   "source": [
    "lwg = qlw.LightweightGraph(net)\n",
    "lwg.show_nodes_list()\n"
   ]
  },
  {
   "cell_type": "markdown",
   "id": "11d03a17",
   "metadata": {},
   "source": [
    "### `Filter`s and  `LightweightRule`s\n",
    "\n",
    "In the scope of *float2fake* conversion, it is important that we are able to replace leaf nodes selectively.\n",
    "Such replacements act in two steps:\n",
    "\n",
    "* identifying the *application points*, i.e., the `LightweightNode`s that satisfy some predefined criteria;\n",
    "* performing the *replacement action*.\n",
    "\n",
    "For the purpose of identifying application points, the `qlw.rules.filters` module implements `Filter` objects that can be applied to lists of `LightweightNode`s.\n",
    "\n",
    "There are two types of *basic* filters:\n",
    "\n",
    "* `NameFilter`s, that filter the input list by matching a regular expression against the first component of each item in the list;\n",
    "* `TypeFilter`s, that filter the input list using the type of the second component as a reference.\n",
    "\n",
    "*Composed* `Filter`s can be built using logical operators:\n",
    "\n",
    "* `-` negation (unary);\n",
    "* `&` conjunction (either binary or variadic);\n",
    "* `|` disjunction (either binary or variadic).\n",
    "\n",
    "For example, to identify all the `torch.nn.Conv2d` PyTorch modules in the feature extractor part of the VGG network implemented above, we can define the following filters:\n"
   ]
  },
  {
   "cell_type": "code",
   "execution_count": 6,
   "id": "503d00bc",
   "metadata": {},
   "outputs": [],
   "source": [
    "# basic type-based filters\n",
    "filter_conv2d = qlw.rules.filters.TypeFilter(nn.Conv2d)\n",
    "filter_linear = qlw.rules.filters.TypeFilter(nn.Linear)\n",
    "filter_relu   = qlw.rules.filters.TypeFilter(nn.ReLU)\n",
    "\n",
    "# basic name-based filters\n",
    "filter_pilot      = qlw.rules.filters.NameFilter('pilot')\n",
    "filter_features   = qlw.rules.filters.NameFilter('features')\n",
    "filter_classifier = qlw.rules.filters.NameFilter('classifier')\n",
    "\n",
    "# composed filter example\n",
    "filter_conv2d_pilot_or_features = filter_conv2d & (filter_pilot | filter_features)\n"
   ]
  },
  {
   "cell_type": "code",
   "execution_count": 7,
   "id": "30957736",
   "metadata": {},
   "outputs": [
    {
     "name": "stdout",
     "output_type": "stream",
     "text": [
      "features.11          <class 'torch.nn.modules.conv.Conv2d'>\n",
      "features.4           <class 'torch.nn.modules.conv.Conv2d'>\n",
      "features.8           <class 'torch.nn.modules.conv.Conv2d'>\n",
      "features.1           <class 'torch.nn.modules.conv.Conv2d'>\n",
      "pilot.0              <class 'torch.nn.modules.conv.Conv2d'>\n"
     ]
    }
   ],
   "source": [
    "for n in filter_conv2d_pilot_or_features(lwg.nodes_list):\n",
    "    print(\"{:20s} {}\".format(n.name, n.module.__class__))\n",
    "    "
   ]
  },
  {
   "cell_type": "markdown",
   "id": "3ba9a66b",
   "metadata": {},
   "source": [
    "Once a `Filter` has been defined, it must be coupled with a suitable replacement function that can implement the desired leaf replacement.\n",
    "For example, we would like to replace `torch.nn.Conv2d` PyTorch modules with `quantlib.algorithms.ana.ANAConv2d` counterparts.\n",
    "This functionality is performed by `LightweightRule`s.\n",
    "\n",
    "Whereas `TypeFilter`s can be applied to generic PyTorch networks, we can not make the same assumption for `NameFilter`s since module names depend on the definition of the class of the specific network that is the subject of the *float2fake* conversion.\n",
    "Thus, to ensure generality we assume that `Filter`s are specific to the network object.\n",
    "\n",
    "On the contrary, the quality of the replacement depends just on the type of the `torch.nn.Module`s returned by the application of a `Filter` and of the fake-quantized modules that are goint to replace it.\n",
    "This network-independent part of a `LightweightRule` is implemented by the so-called `replacement_fun` attribute of the rule.\n",
    "A replacement function takes as input a leaf PyTorch module (i.e., a non-container PyTorch module) and returns either a container PyTorch module containing basic fake-quantized PyTorch modules or a basic fake-quantized PyTorch module, as defined by the programmer.\n",
    "Since most quantization-aware training algorithms condition their behaviour on some hyper-parameters, replacement functions can take them as arguments.\n",
    "\n",
    "A custom `LightweightRule` in then defined according to this procedure:\n",
    "\n",
    "* the programmer implements the `replacement_fun` in such a way to be agnostic of the networks it will be applied to; the hyper-parameters of the fake-quantized modules are left as arguments; in conjunction with currying, this coding practice can act in a similar way as templatisation in languages such as C++;\n",
    "* the programmer implements the custom `LightweightRule` by sub-classing the stock `LightweightRule` class; the constructor method of this class should take as inputs actual values for the fake-quantized modules hyper-parameters and use currying (as provided by Python's `functools` package) to instantiate a replacement function from the \"template\"; also, the constructor method should take a `Filter` as input.\n",
    "\n",
    "In this way, a user can instantiate a very specific leaf replacement rule by passing the `Filter` that identifies the desired application points in the subject network and the hyper-paremeters for the fake-quantized modules associated with the chosen quantization-aware training algorithm.\n",
    "\n",
    "The behaviour inherited by the stock `LightweightRule` class is such that applying a custom rule will perform the following actions:\n",
    "\n",
    "* take as input a `LightweightGraph`s;\n",
    "* apply the `Filter` to its `nodes_list` and return the target leaves;\n",
    "* for each target leaf, traverse the tree and replace its module with the one specified by the `replacement_fun`;\n",
    "* rebuild the `nodes_list` of the `LightweightGraph`: if the wrapped PyTorch module tree is traversed, the target leaves will have been replaced as specified.\n"
   ]
  },
  {
   "cell_type": "code",
   "execution_count": 8,
   "id": "f21494e1",
   "metadata": {},
   "outputs": [],
   "source": [
    "from functools import partial\n",
    "\n",
    "import quantlib.algorithms as qa\n",
    "\n",
    "\n",
    "# nn.Conv2d -> qa.ana.ANAConv2d\n",
    "def replace_conv2d_anaconv2d(module:         nn.Module,\n",
    "                             quantizer_spec: dict,\n",
    "                             noise_type:     str):\n",
    "    \n",
    "    assert isinstance(module, nn.Conv2d)\n",
    "\n",
    "    return qa.ana.ANAConv2d(in_channels=module.in_channels,\n",
    "                            out_channels=module.out_channels,\n",
    "                            kernel_size=module.kernel_size,\n",
    "                            stride=module.stride,\n",
    "                            padding=module.padding,\n",
    "                            dilation=module.dilation,\n",
    "                            groups=module.groups,\n",
    "                            bias=module.bias,\n",
    "                            quantizer_spec=quantizer_spec,\n",
    "                            noise_type=noise_type)\n",
    "\n",
    "\n",
    "class ANAConv2dRule(qlw.rules.LightweightRule):\n",
    "    \n",
    "    def __init__(self,\n",
    "                 filter_:        qlw.rules.filters.Filter,\n",
    "                 quantizer_spec: dict,\n",
    "                 noise_type:     str):\n",
    "\n",
    "        replacement_fun = partial(replace_conv2d_anaconv2d, quantizer_spec=quantizer_spec, noise_type=noise_type)\n",
    "        super(ANAConv2dRule, self).__init__(filter_=filter_, replacement_fun=replacement_fun)\n"
   ]
  },
  {
   "cell_type": "markdown",
   "id": "391792e5",
   "metadata": {},
   "source": [
    "### `LightweightEditor`\n",
    "\n",
    "Sometimes, graph manipulations can be not trivial to implement.\n",
    "This usually happens when the subject network is complicated and multiple steps are involved in the *float2fake* conversion.\n",
    "In these cases, it is more likely to make coding mistakes.\n",
    "Such mistakes can require the user to re-run the network creation code and the *float2fake* conversion, taking a toll in development time.\n",
    "\n",
    "Since Python is an interpreted language, we can perform graph manipulations interactively, possibly undoing those transformations that had an effect other than the intended one.\n",
    "For this purpose, the `quantlib.editing.lighweight` package exposes a `LightweightEditor` abstraction.\n",
    "The usage is the following:\n",
    "\n",
    "* at creation, a `LightweightEditor` wraps a `LightweightGraph`;\n",
    "* the editor protects the wrapped graph from accidental modifications using a lock system called an *editing session*;\n",
    "* to create the lock, call the `startup` method; note that the lock will be created in open position;\n",
    "* to pause an editing session, i.e., to close the lock, call the `pause` method;\n",
    "* to resume an editing session, i.e., to open a previously closed lock, call the `resume` method;\n",
    "* to conclude an editing session, call the `shutdown` method; this call will destroy the lock; note that this action will delete the history of `LightweightRule` applications, making it impossible to undo the applied modifications.\n",
    "\n",
    "When in an editing session, the `LightweightEditor` can set up, apply and unapply modifications:\n",
    "\n",
    "* define the active `LightweightRule` via `set_lwr`; this method takes as argument an object of a class that inherits from `LightweightRule`;\n",
    "* `apply` the active rule; this action has no effect if no rule has been set;\n",
    "* `unapply` the most recently applied rule; this action has no effect if there is no rule application in the history of the editor.\n"
   ]
  },
  {
   "cell_type": "code",
   "execution_count": 9,
   "id": "52ccb5c3",
   "metadata": {},
   "outputs": [],
   "source": [
    "lwe = qlw.LightweightEditor(lwg)\n",
    "lwe.startup()\n",
    "lwe.pause()\n"
   ]
  },
  {
   "cell_type": "markdown",
   "id": "6127ddae",
   "metadata": {},
   "source": [
    "Now, we instantiate the previously defined `LightweightRule` to replace all the `torch.nn.Conv2d` modules in the feature extractor with `quantlib.algorithms.ana.ANAConv2d` modules, and apply it to the `LightweightGraph`.\n"
   ]
  },
  {
   "cell_type": "code",
   "execution_count": 10,
   "id": "5c16f5f4",
   "metadata": {},
   "outputs": [
    {
     "name": "stdout",
     "output_type": "stream",
     "text": [
      "pilot.0                        <class 'quantlib.algorithms.ana.ana_ops.ANAConv2d'>\n",
      "pilot.1                        <class 'torch.nn.modules.batchnorm.BatchNorm2d'>\n",
      "pilot.2                        <class 'torch.nn.modules.activation.ReLU'>\n",
      "features.0                     <class 'torch.nn.modules.pooling.MaxPool2d'>\n",
      "features.1                     <class 'quantlib.algorithms.ana.ana_ops.ANAConv2d'>\n",
      "features.2                     <class 'torch.nn.modules.batchnorm.BatchNorm2d'>\n",
      "features.3                     <class 'torch.nn.modules.activation.ReLU'>\n",
      "features.4                     <class 'quantlib.algorithms.ana.ana_ops.ANAConv2d'>\n",
      "features.5                     <class 'torch.nn.modules.batchnorm.BatchNorm2d'>\n",
      "features.6                     <class 'torch.nn.modules.activation.ReLU'>\n",
      "features.7                     <class 'torch.nn.modules.pooling.MaxPool2d'>\n",
      "features.8                     <class 'quantlib.algorithms.ana.ana_ops.ANAConv2d'>\n",
      "features.9                     <class 'torch.nn.modules.batchnorm.BatchNorm2d'>\n",
      "features.10                    <class 'torch.nn.modules.activation.ReLU'>\n",
      "features.11                    <class 'quantlib.algorithms.ana.ana_ops.ANAConv2d'>\n",
      "features.12                    <class 'torch.nn.modules.batchnorm.BatchNorm2d'>\n",
      "features.13                    <class 'torch.nn.modules.activation.ReLU'>\n",
      "features.14                    <class 'torch.nn.modules.pooling.MaxPool2d'>\n",
      "avgpool                        <class 'torch.nn.modules.pooling.AdaptiveAvgPool2d'>\n",
      "classifier.0                   <class 'torch.nn.modules.linear.Linear'>\n",
      "classifier.1                   <class 'torch.nn.modules.batchnorm.BatchNorm1d'>\n",
      "classifier.2                   <class 'torch.nn.modules.activation.ReLU'>\n",
      "classifier.3                   <class 'torch.nn.modules.linear.Linear'>\n",
      "classifier.4                   <class 'torch.nn.modules.batchnorm.BatchNorm1d'>\n",
      "classifier.5                   <class 'torch.nn.modules.activation.ReLU'>\n",
      "classifier.6                   <class 'torch.nn.modules.linear.Linear'>\n"
     ]
    }
   ],
   "source": [
    "# replace `nn.Conv2d` PyTorch nodes with `qa.ana.ANAConv2d` quantlib nodes\n",
    "rho_conv2d = ANAConv2dRule(filter_conv2d_pilot_or_features, {'nbits': 2, 'signed': True, 'balanced': True, 'eps': 1.0}, 'uniform')\n",
    "\n",
    "lwe.resume()\n",
    "lwe.set_lwr(rho_conv2d)\n",
    "lwe.apply()\n",
    "lwe.pause()\n",
    "\n",
    "lwe.graph.show_nodes_list()\n"
   ]
  },
  {
   "cell_type": "markdown",
   "id": "684b0e8f",
   "metadata": {},
   "source": [
    "### **Exercise**: define custom `LightweightRule`s\n",
    "\n",
    "In the following cells, we will define custom `LightweightRule`s to:\n",
    "\n",
    "* replace all the `torch.nn.Linear` modules in the given list with `quantlib.algorithms.ana.ANALinear` nodes;\n",
    "* replace all the PyTorch modules implementing non-linear transformations (i.e., `torch.nn.ReLU` nodes) with `quantlib.algorithms.ana.ANAActivation`s.\n",
    "\n",
    "In particular, your task is defining the functions that will create fake-quantized ANA modules to replace the given  floating-point PyTorch modules.\n",
    "Remember that the fake-quantized modules should be able to process arrays (i.e., `torch.Tensor`s) with the same shape and with the same data type as those accepted by the floating-point ones.\n"
   ]
  },
  {
   "cell_type": "code",
   "execution_count": 11,
   "id": "d59f3241",
   "metadata": {},
   "outputs": [],
   "source": [
    "# nn.Linear -> qa.ana.ANALinear\n",
    "def replace_linear_analinear(module:         torch.nn.Module,\n",
    "                             quantizer_spec: dict,\n",
    "                             noise_type:     str):\n",
    "    \n",
    "    assert isinstance(module, torch.nn.Linear)\n",
    "    \n",
    "    return qa.ana.ANALinear(in_features=module.in_features,\n",
    "                            out_features=module.out_features,\n",
    "                            bias=module.bias,\n",
    "                            quantizer_spec=quantizer_spec,\n",
    "                            noise_type=noise_type)\n",
    "\n",
    "\n",
    "class ANALinearRule(qlw.rules.LightweightRule):\n",
    "    \n",
    "    def __init__(self,\n",
    "                 filter_:        qlw.rules.filters.Filter,\n",
    "                 quantizer_spec: dict,\n",
    "                 noise_type:     str):\n",
    "        \n",
    "        replacement_fun = partial(replace_linear_analinear, quantizer_spec=quantizer_spec, noise_type=noise_type)\n",
    "        super(ANALinearRule, self).__init__(filter_=filter_, replacement_fun=replacement_fun)\n"
   ]
  },
  {
   "cell_type": "code",
   "execution_count": 12,
   "id": "e108d684",
   "metadata": {},
   "outputs": [],
   "source": [
    "# nn.ReLU -> qa.ana.ANAActivation\n",
    "def replace_relu_anaact(module:         torch.nn.Module,\n",
    "                        quantizer_spec: dict,\n",
    "                        noise_type:     str):\n",
    "    \n",
    "    assert isinstance(module, torch.nn.ReLU)\n",
    "    return qa.ana.ANAActivation(quantizer_spec=quantizer_spec, noise_type=noise_type)\n",
    "\n",
    "\n",
    "class ANAActivationRule(qlw.rules.LightweightRule):\n",
    "    \n",
    "    def __init__(self,\n",
    "                 filter_:        qlw.rules.filters.Filter,\n",
    "                 quantizer_spec: dict,\n",
    "                 noise_type:     str):\n",
    "        \n",
    "        replacement_fun = partial(replace_relu_anaact, quantizer_spec=quantizer_spec, noise_type=noise_type)\n",
    "        super(ANAActivationRule, self).__init__(filter_=filter_, replacement_fun=replacement_fun)\n"
   ]
  },
  {
   "cell_type": "markdown",
   "id": "011b17a8",
   "metadata": {},
   "source": [
    "### **Exercise**: apply custom `LightweightRule`s\n",
    "\n",
    "In the following cells, we are going to apply the rules that we have just defined to complete the *float2fake* conversion of the VGG8 network.\n",
    "\n",
    "In particular, your task is defining the `Filter`s that will select:\n",
    "\n",
    "* all the `torch.nn.Linear` modules but the last one (leaving the last layer of a QNN at higher precision usually yields much better performance);\n",
    "* all the PyTorch modules implementing ReLU transformations.\n"
   ]
  },
  {
   "cell_type": "code",
   "execution_count": 13,
   "id": "c62a2a68",
   "metadata": {},
   "outputs": [
    {
     "name": "stdout",
     "output_type": "stream",
     "text": [
      "pilot.0                        <class 'quantlib.algorithms.ana.ana_ops.ANAConv2d'>\n",
      "pilot.1                        <class 'torch.nn.modules.batchnorm.BatchNorm2d'>\n",
      "pilot.2                        <class 'torch.nn.modules.activation.ReLU'>\n",
      "features.0                     <class 'torch.nn.modules.pooling.MaxPool2d'>\n",
      "features.1                     <class 'quantlib.algorithms.ana.ana_ops.ANAConv2d'>\n",
      "features.2                     <class 'torch.nn.modules.batchnorm.BatchNorm2d'>\n",
      "features.3                     <class 'torch.nn.modules.activation.ReLU'>\n",
      "features.4                     <class 'quantlib.algorithms.ana.ana_ops.ANAConv2d'>\n",
      "features.5                     <class 'torch.nn.modules.batchnorm.BatchNorm2d'>\n",
      "features.6                     <class 'torch.nn.modules.activation.ReLU'>\n",
      "features.7                     <class 'torch.nn.modules.pooling.MaxPool2d'>\n",
      "features.8                     <class 'quantlib.algorithms.ana.ana_ops.ANAConv2d'>\n",
      "features.9                     <class 'torch.nn.modules.batchnorm.BatchNorm2d'>\n",
      "features.10                    <class 'torch.nn.modules.activation.ReLU'>\n",
      "features.11                    <class 'quantlib.algorithms.ana.ana_ops.ANAConv2d'>\n",
      "features.12                    <class 'torch.nn.modules.batchnorm.BatchNorm2d'>\n",
      "features.13                    <class 'torch.nn.modules.activation.ReLU'>\n",
      "features.14                    <class 'torch.nn.modules.pooling.MaxPool2d'>\n",
      "avgpool                        <class 'torch.nn.modules.pooling.AdaptiveAvgPool2d'>\n",
      "classifier.0                   <class 'quantlib.algorithms.ana.ana_ops.ANALinear'>\n",
      "classifier.1                   <class 'torch.nn.modules.batchnorm.BatchNorm1d'>\n",
      "classifier.2                   <class 'torch.nn.modules.activation.ReLU'>\n",
      "classifier.3                   <class 'quantlib.algorithms.ana.ana_ops.ANALinear'>\n",
      "classifier.4                   <class 'torch.nn.modules.batchnorm.BatchNorm1d'>\n",
      "classifier.5                   <class 'torch.nn.modules.activation.ReLU'>\n",
      "classifier.6                   <class 'torch.nn.modules.linear.Linear'>\n"
     ]
    }
   ],
   "source": [
    "# replace `nn.Linear` PyTorch nodes with `qa.ana.ANALinear` quantlib nodes\n",
    "filter_last_layer = qlw.rules.filters.NameFilter('classifier.6')\n",
    "filter_linear_classifier_no_last = filter_linear & filter_classifier & (-filter_last_layer)\n",
    "rho_linear = ANALinearRule(filter_linear_classifier_no_last, {'nbits': 2, 'signed': True, 'balanced': True, 'eps': 1.0}, 'uniform')\n",
    "\n",
    "lwe.resume()\n",
    "lwe.set_lwr(rho_linear)\n",
    "lwe.apply()\n",
    "lwe.pause()\n",
    "\n",
    "lwe.graph.show_nodes_list()\n"
   ]
  },
  {
   "cell_type": "code",
   "execution_count": 14,
   "id": "8a2fcf08",
   "metadata": {},
   "outputs": [
    {
     "name": "stdout",
     "output_type": "stream",
     "text": [
      "pilot.0                        <class 'quantlib.algorithms.ana.ana_ops.ANAConv2d'>\n",
      "pilot.1                        <class 'torch.nn.modules.batchnorm.BatchNorm2d'>\n",
      "pilot.2                        <class 'quantlib.algorithms.ana.ana_ops.ANAActivation'>\n",
      "features.0                     <class 'torch.nn.modules.pooling.MaxPool2d'>\n",
      "features.1                     <class 'quantlib.algorithms.ana.ana_ops.ANAConv2d'>\n",
      "features.2                     <class 'torch.nn.modules.batchnorm.BatchNorm2d'>\n",
      "features.3                     <class 'quantlib.algorithms.ana.ana_ops.ANAActivation'>\n",
      "features.4                     <class 'quantlib.algorithms.ana.ana_ops.ANAConv2d'>\n",
      "features.5                     <class 'torch.nn.modules.batchnorm.BatchNorm2d'>\n",
      "features.6                     <class 'quantlib.algorithms.ana.ana_ops.ANAActivation'>\n",
      "features.7                     <class 'torch.nn.modules.pooling.MaxPool2d'>\n",
      "features.8                     <class 'quantlib.algorithms.ana.ana_ops.ANAConv2d'>\n",
      "features.9                     <class 'torch.nn.modules.batchnorm.BatchNorm2d'>\n",
      "features.10                    <class 'quantlib.algorithms.ana.ana_ops.ANAActivation'>\n",
      "features.11                    <class 'quantlib.algorithms.ana.ana_ops.ANAConv2d'>\n",
      "features.12                    <class 'torch.nn.modules.batchnorm.BatchNorm2d'>\n",
      "features.13                    <class 'quantlib.algorithms.ana.ana_ops.ANAActivation'>\n",
      "features.14                    <class 'torch.nn.modules.pooling.MaxPool2d'>\n",
      "avgpool                        <class 'torch.nn.modules.pooling.AdaptiveAvgPool2d'>\n",
      "classifier.0                   <class 'quantlib.algorithms.ana.ana_ops.ANALinear'>\n",
      "classifier.1                   <class 'torch.nn.modules.batchnorm.BatchNorm1d'>\n",
      "classifier.2                   <class 'quantlib.algorithms.ana.ana_ops.ANAActivation'>\n",
      "classifier.3                   <class 'quantlib.algorithms.ana.ana_ops.ANALinear'>\n",
      "classifier.4                   <class 'torch.nn.modules.batchnorm.BatchNorm1d'>\n",
      "classifier.5                   <class 'quantlib.algorithms.ana.ana_ops.ANAActivation'>\n",
      "classifier.6                   <class 'torch.nn.modules.linear.Linear'>\n"
     ]
    }
   ],
   "source": [
    "# replace `nn.ReLU` PyTorch nodes with `qa.ana.ANAActivation` quantlib nodes\n",
    "filter_relu_pilot_or_features_or_classifier = filter_relu & (filter_pilot | filter_features | filter_classifier)\n",
    "rho_relu = ANAActivationRule(filter_relu_pilot_or_features_or_classifier, {'nbits': 2, 'signed': True, 'balanced': True, 'eps': 1.0}, 'uniform')\n",
    "\n",
    "lwe.resume()\n",
    "lwe.set_lwr(rho_relu)\n",
    "lwe.apply()\n",
    "lwe.pause()\n",
    "\n",
    "lwe.graph.show_nodes_list()\n"
   ]
  },
  {
   "cell_type": "markdown",
   "id": "677d8adc",
   "metadata": {},
   "source": [
    "When we are happy with the transformation applied to the graph (i.e., when we are sure that we replaced the intended modules with the quantized counterparts), we can close the editing session.\n",
    "Recall that this operation will destroy the editing history, and it will be impossible to bring the network back into the state it was in before the editing process.\n"
   ]
  },
  {
   "cell_type": "code",
   "execution_count": 15,
   "id": "5382195f",
   "metadata": {},
   "outputs": [],
   "source": [
    "lwe.shutdown()"
   ]
  },
  {
   "cell_type": "markdown",
   "id": "ed92ef96",
   "metadata": {},
   "source": [
    "## Intermezzo: training a fake-quantized QNN using the ANA algorithm"
   ]
  },
  {
   "cell_type": "code",
   "execution_count": 16,
   "id": "6d162ee0",
   "metadata": {},
   "outputs": [],
   "source": [
    "import os\n",
    "\n",
    "try:\n",
    "    ckpt_path = os.path.join(os.pardir, os.pardir, os.pardir, 'systems', 'CIFAR10', 'VGG', 'logs', 'exp0000', 'fold0', 'saves', 'best.ckpt')\n",
    "    ckpt      = torch.load(ckpt_path, map_location=torch.device('cpu'))\n",
    "    net.load_state_dict(ckpt['net'])\n",
    "except OSError:\n",
    "    for anamod in filter(lambda m: isinstance(m, qa.ana.ana_ops.ANAModule), net.modules()):\n",
    "        anamod.set_fnoise(0.0, 0.0)\n",
    "        anamod.set_bnoise(0.0, 0.0)\n"
   ]
  },
  {
   "cell_type": "markdown",
   "id": "7189cacb",
   "metadata": {},
   "source": [
    "## Converting a fake-quantized graph into a true-quantized one\n",
    "\n",
    "At this point, we assume that we have been able to train the ANA-fake-quantized VGG8 network.\n",
    "It is therefore time to proceed with deriving the software \"golden model\" for the program that will actually run on CUTIE, i.e., the CUTIE-compatible, true-quantized VGG8.\n",
    "\n",
    "This process will require several steps:\n",
    "\n",
    "* *tracing* the fake-quantized network object into a PyTorch *just-in-time* (JIT) computational graph;\n",
    "* *elevating* a JIT graph to a PyTorch graph;\n",
    "* inserting *helper* operations;\n",
    "* *rewriting* PyTorch graphs;\n",
    "* removing *helper* operations;\n",
    "* *generating code* for a true-quantized network object.\n",
    "\n",
    "We start by importing the namespaces providing the general-purpose and backend-specific *fake2true* conversion functionalities."
   ]
  },
  {
   "cell_type": "code",
   "execution_count": 17,
   "id": "e08aeae8",
   "metadata": {},
   "outputs": [],
   "source": [
    "import quantlib.editing.graphs as qg\n",
    "import quantlib.backends as qb"
   ]
  },
  {
   "cell_type": "markdown",
   "id": "0be2e7b8",
   "metadata": {},
   "source": [
    "Since for didactic purposes it can be useful to visualise the graphs involved in a *fake2true* conversion, we define the following helper function."
   ]
  },
  {
   "cell_type": "code",
   "execution_count": 18,
   "id": "b678bc69",
   "metadata": {},
   "outputs": [],
   "source": [
    "import networkx as nx\n",
    "from IPython.display import display, IFrame\n",
    "\n",
    "\n",
    "def print_and_render(G:        nx.DiGraph,\n",
    "                     filename: str,\n",
    "                     width:    int = 950,\n",
    "                     height:   int = 600) -> None:\n",
    "    \n",
    "    dir_figures = os.path.join(os.path.curdir, 'figures')\n",
    "    if not os.path.isdir(dir_figures):\n",
    "        os.makedirs(dir_figures, exist_ok=True)\n",
    "\n",
    "    qg.utils.draw_graph(G, dir_figures, filename)\n",
    "    display(IFrame(os.path.join(dir_figures, filename + '.pdf'), width, height))\n"
   ]
  },
  {
   "cell_type": "markdown",
   "id": "0527f9f9",
   "metadata": {},
   "source": [
    "### *Tracing* a PyTorch network object into a JIT graph: `ONNXGraph`s\n",
    "\n",
    "In PyTorch jargon, *tracing* is the process by which a mock-up array (also called *dummy input*) is given in input to a PyTorch network and the calls triggered during the construction of the dynamic computational graph are registered.\n",
    "This allows to retrieve the full dependency structure between arrays and functions.\n",
    "\n",
    "Before tracing a fake-quantized graph, be sure to freeze its data-dependent parameters to their data-independent versions (e.g., the channel means and standard deviations tracked by batch normalisation modules).\n",
    "At runtime it is generally preferable **not** using data-dependent parameters, since this constraint makes it easier to conceive optimisations.\n",
    "\n",
    "In the specific case of networks that include batch normalisation layers, it is impossible to trace such networks by passing batches that include a single data point when the networks are not set in \"evaluation\" mode (by definition, computing the sample standard deviation associated with a sample that contains less than two data points is impossible).\n",
    "Therefore, we suggest to trace networks setting the batch size of the dummy input to one.\n",
    "\n",
    "In `quantlib`, the tracing operation is performed implicitly by wrapping the PyTorch network object inside a `quantlib.editing.graphs.graphs.ONNXGraph` object.\n",
    "The constructor method of this class takes in input an object of class `torch.nn.Module` and a `torch.Tensor` representing a dummy input (which shape should be compatible to that expected in input by the network), and automatically performs the tracing.\n",
    "The graph resulting from the tracing is stored in an `nx_graph` attribute, an object of class `networkx.DiGraph`.\n",
    "\n",
    "We must point out that the class name we chose for this graph is a bit misleading: despite the fact that PyTorch JIT graph are tightly related to the data structures specified by the ONNX format, PyTorch JIT graphs register more information that the one specified by the standard ONNX specification.\n",
    "Beware of this fact, and don't make any assumption about the fact that objects of type `ONNXGraph` are directly compatible with ONNX specifications.\n"
   ]
  },
  {
   "cell_type": "code",
   "execution_count": 19,
   "id": "8de0e400",
   "metadata": {},
   "outputs": [
    {
     "name": "stderr",
     "output_type": "stream",
     "text": [
      "/Users/spmatteo/anaconda3/envs/quantlab/lib/python3.8/site-packages/torch/nn/functional.py:718: UserWarning: Named tensors and all their associated APIs are an experimental feature and subject to change. Please do not use them for anything important until they are released as stable. (Triggered internally at  /Users/distiller/project/conda/conda-bld/pytorch_1623459044803/work/c10/core/TensorImpl.h:1156.)\n",
      "  return torch.max_pool2d(input, kernel_size, stride, padding, dilation, ceil_mode)\n",
      "/Users/spmatteo/anaconda3/envs/quantlab/lib/python3.8/site-packages/torch/onnx/symbolic_helper.py:712: UserWarning: ONNX export mode is set to inference mode, but operator batch_norm is set to inference mode. The model will be exported in inference, as specified by the export mode.\n",
      "  warnings.warn(\"ONNX export mode is set to \" + training_mode +\n"
     ]
    }
   ],
   "source": [
    "net.eval()\n",
    "onnxg = qg.graphs.ONNXGraph(net, torch.randn((1, 3, 32, 32)))\n"
   ]
  },
  {
   "cell_type": "markdown",
   "id": "8dc378b1",
   "metadata": {},
   "source": [
    "### *Elevating* a JIT graph to a PyTorch graph\n",
    "\n",
    "Since PyTorch JIT graphs keep track of all the arrays and low-level kernels utilised by a PyTorch network object, they often consist of hundreds or even thousands of nodes.\n",
    "\n",
    "Due to large variety of computational graphs arising from tracing different PyTorch network objects, the patterns involved in the *fake2true* conversions have not yet been categorized.\n",
    "Consequently, the application of sound compiler-theoretical tools has not yet been enabled.\n",
    "Or at least, this is the current state of research in the field to the best of our knowledge.\n",
    "\n",
    "Writing proper graph rewriting rules for such graphs might be daunting and error prone.\n",
    "For this reason, we introduced the concept of *elevation* of a PyTorch JIT graph into a PyTorch graph.\n",
    "A PyTorch graph is the computational graph representation of a PyTorch network object, obtained by making the dependencies between its basic `torch.nn.Module`s explicit.\n",
    "This transformation makes it easier to write GRRs for *fake2true* quantization, hopefully reducing the probability of making mistakes.\n",
    "\n",
    "This capability comes at the price of automatically deriving the connectivity of the PyTorch graph by analising the corresponding JIT graph.\n",
    "We started by observing that most operations in a JIT graph are executed in the scope of some PyTorch `torch.nn.Module` operation.\n",
    "However, some operations are executed under the scope of direct calls to the API of `torch.Tensor` objects (e.g., `torch.view` is used to \"linearise\" the multi-dimensional arrays output by convolutional modules before feeding them to linear modules); such operations remain unscoped after the tracing process.\n",
    "Finally, some custom fake-quantized PyTorch modules might use operations that are not properly scoped during the tracing step.\n",
    "\n",
    "Performing an *elevation* automatically requires that **all** the kernel nodes in an `ONNXGraph` are properly scoped.\n",
    "The `quantlib.editing.graphs` package provides some functionalities that can be used to identify and re-scope such operations.\n"
   ]
  },
  {
   "cell_type": "code",
   "execution_count": 20,
   "id": "b8e43089",
   "metadata": {},
   "outputs": [
    {
     "data": {
      "text/html": [
       "\n",
       "        <iframe\n",
       "            width=\"950\"\n",
       "            height=\"600\"\n",
       "            src=\"./figures/VGG8_ANA_F2T_ONNX.pdf\"\n",
       "            frameborder=\"0\"\n",
       "            allowfullscreen\n",
       "        ></iframe>\n",
       "        "
      ],
      "text/plain": [
       "<IPython.lib.display.IFrame at 0x7fee5e450d00>"
      ]
     },
     "metadata": {},
     "output_type": "display_data"
    }
   ],
   "source": [
    "onnxe = qg.editor.Editor(onnxg)\n",
    "\n",
    "print_and_render(onnxe.G, 'VGG8_ANA_F2T_ONNX')\n"
   ]
  },
  {
   "cell_type": "code",
   "execution_count": 21,
   "id": "b13b218f",
   "metadata": {},
   "outputs": [
    {
     "name": "stdout",
     "output_type": "stream",
     "text": [
      "O000039\n",
      "O000040\n",
      "O000043\n",
      "O000042\n",
      "O000044\n",
      "O000041\n"
     ]
    }
   ],
   "source": [
    "for node_id, scope in nx.get_node_attributes(onnxe.G, 'scope').items():\n",
    "    if scope == '':\n",
    "        print(node_id)\n"
   ]
  },
  {
   "cell_type": "code",
   "execution_count": 22,
   "id": "fbb0f387",
   "metadata": {},
   "outputs": [
    {
     "name": "stdout",
     "output_type": "stream",
     "text": [
      "Temporary cache directory created at /var/folders/6h/rm9g6bs143g4mvwfh3fd7_jw0000gq/T/tmpl32ms551\n",
      "Applying rule <class 'quantlib.editing.graphs.grrules.dporules.AutoRescopingRule'> to `nn.Module`s of type AdaptiveAvgPool2d ...\n",
      "Applying rule <class 'quantlib.editing.graphs.grrules.dporules.ManualRescopingRule'> to `nn.Module`s of type ViewFlattenNd ...\n",
      "Applying rule <class 'quantlib.editing.graphs.grrules.dporules.AutoRescopingRule'> to `nn.Module`s of type ANAActivation ...\n",
      "Applying rule <class 'quantlib.editing.graphs.grrules.dporules.AutoRescopingRule'> to `nn.Module`s of type ANAConv2d ...\n",
      "An issue arose while applying rule <class 'quantlib.editing.graphs.grrules.dporules.AutoRescopingRule'> to graph <> at point: \n",
      "\t O000013 L-term/O000000\n",
      "\t D000052 L-term/D000007\n",
      "\t O000014 L-term/O000001\n",
      "\t D000053 L-term/D000009\n",
      "\t O000017 L-term/O000002\n",
      "\t D000064 K-term/D000011\n",
      "\t D000048 K-term/D000000\n",
      "\t D000047 K-term/D000003\n",
      "\t D000049 K-term/D000004\n",
      "\t D000051 K-term/D000005\n",
      "\t D000044 K-term/D000008\n",
      "\t D000050 K-term/D000002\n",
      "\t D000045 K-term/D000001\n",
      "\t D000046 K-term/D000006\n",
      "\t D000063 K-term/D000010\n",
      "\n",
      "An issue arose while applying rule <class 'quantlib.editing.graphs.grrules.dporules.AutoRescopingRule'> to graph <> at point: \n",
      "\t O000028 L-term/O000000\n",
      "\t D000105 L-term/D000007\n",
      "\t O000029 L-term/O000001\n",
      "\t D000106 L-term/D000009\n",
      "\t O000032 L-term/O000002\n",
      "\t D000117 K-term/D000011\n",
      "\t D000098 K-term/D000000\n",
      "\t D000103 K-term/D000003\n",
      "\t D000102 K-term/D000004\n",
      "\t D000101 K-term/D000005\n",
      "\t D000097 K-term/D000008\n",
      "\t D000104 K-term/D000002\n",
      "\t D000100 K-term/D000001\n",
      "\t D000099 K-term/D000006\n",
      "\t D000116 K-term/D000010\n",
      "\n",
      "Applying rule <class 'quantlib.editing.graphs.grrules.dporules.AutoRescopingRule'> to `nn.Module`s of type ANALinear ...\n"
     ]
    }
   ],
   "source": [
    "onnxe.startup()\n",
    "for mod_name, rho in qg.grrules.load_rescoping_rules(modules=['AdaptiveAvgPool2d', 'ViewFlattenNd', 'ANAActivation', 'ANAConv2d', 'ANALinear']).items():\n",
    "    print(\"Applying rule {} to `nn.Module`s of type {} ...\".format(type(rho), mod_name))\n",
    "    onnxe.set_grr(rho)\n",
    "    onnxe.edit()\n",
    "onnxe.shutdown()\n"
   ]
  },
  {
   "cell_type": "code",
   "execution_count": 23,
   "id": "a24633be",
   "metadata": {},
   "outputs": [
    {
     "name": "stdout",
     "output_type": "stream",
     "text": [
      "O000039\n",
      "O000040\n",
      "O000043\n",
      "O000042\n",
      "O000044\n",
      "O000041\n"
     ]
    }
   ],
   "source": [
    "for node_id, scope in nx.get_node_attributes(onnxe.G, 'scope').items():\n",
    "    if scope == '':\n",
    "        print(node_id)\n",
    "        "
   ]
  },
  {
   "cell_type": "markdown",
   "id": "0f2ec14f",
   "metadata": {},
   "source": [
    "After all nodes have been scoped, a `PyTorchGraph` object can be used to create a PyTorch graph.\n",
    "Its constructor method takes in input the PyTorch network object that was fed to the tracing function (i.e., to the constructor method of the `ONNXGraph` object itself) and the `ONNXGraph` object.\n"
   ]
  },
  {
   "cell_type": "code",
   "execution_count": 24,
   "id": "c1db0f04",
   "metadata": {},
   "outputs": [
    {
     "data": {
      "text/html": [
       "\n",
       "        <iframe\n",
       "            width=\"950\"\n",
       "            height=\"600\"\n",
       "            src=\"./figures/VGG8_ANA_F2T_PyTorch.pdf\"\n",
       "            frameborder=\"0\"\n",
       "            allowfullscreen\n",
       "        ></iframe>\n",
       "        "
      ],
      "text/plain": [
       "<IPython.lib.display.IFrame at 0x7fee8070e8b0>"
      ]
     },
     "metadata": {},
     "output_type": "display_data"
    }
   ],
   "source": [
    "pytorchg = qg.graphs.PyTorchGraph(net, onnxg)\n",
    "pytorche = qg.editor.Editor(pytorchg, onlykernel=True)\n",
    "\n",
    "print_and_render(pytorche.G, 'VGG8_ANA_F2T_PyTorch')\n"
   ]
  },
  {
   "cell_type": "markdown",
   "id": "0c6ad246",
   "metadata": {},
   "source": [
    "### Adding *helper* nodes\n"
   ]
  },
  {
   "cell_type": "code",
   "execution_count": 25,
   "id": "6d328922",
   "metadata": {},
   "outputs": [
    {
     "name": "stdout",
     "output_type": "stream",
     "text": [
      "Temporary cache directory created at /var/folders/6h/rm9g6bs143g4mvwfh3fd7_jw0000gq/T/tmp5psofwod\n"
     ]
    },
    {
     "data": {
      "text/html": [
       "\n",
       "        <iframe\n",
       "            width=\"950\"\n",
       "            height=\"600\"\n",
       "            src=\"./figures/VGG8_ANA_F2T_preproc_IO.pdf\"\n",
       "            frameborder=\"0\"\n",
       "            allowfullscreen\n",
       "        ></iframe>\n",
       "        "
      ],
      "text/plain": [
       "<IPython.lib.display.IFrame at 0x7fee8070e820>"
      ]
     },
     "metadata": {},
     "output_type": "display_data"
    }
   ],
   "source": [
    "pytorche.add_io_handles()\n",
    "\n",
    "print_and_render(pytorche.G, 'VGG8_ANA_F2T_preproc_IO')\n"
   ]
  },
  {
   "cell_type": "code",
   "execution_count": 26,
   "id": "9ab242e8",
   "metadata": {},
   "outputs": [
    {
     "name": "stdout",
     "output_type": "stream",
     "text": [
      "Temporary cache directory created at /var/folders/6h/rm9g6bs143g4mvwfh3fd7_jw0000gq/T/tmpe27g7i64\n"
     ]
    },
    {
     "data": {
      "text/html": [
       "\n",
       "        <iframe\n",
       "            width=\"950\"\n",
       "            height=\"600\"\n",
       "            src=\"./figures/VGG8_ANA_F2T_preproc_PT.pdf\"\n",
       "            frameborder=\"0\"\n",
       "            allowfullscreen\n",
       "        ></iframe>\n",
       "        "
      ],
      "text/plain": [
       "<IPython.lib.display.IFrame at 0x7fee879fd5b0>"
      ]
     },
     "metadata": {},
     "output_type": "display_data"
    }
   ],
   "source": [
    "pytorche.startup()\n",
    "\n",
    "# apply the idempotence property to create a graph that is decomposable in non-intersecting translation units\n",
    "pytorche.resume()\n",
    "pytorche.set_grr(qg.grrules.AddPrecisionTunnelRule(qa.ana.ANAActivation.__name__))\n",
    "pytorche.edit()\n",
    "pytorche.pause()\n",
    "\n",
    "print_and_render(pytorche.G, 'VGG8_ANA_F2T_preproc_PT')\n"
   ]
  },
  {
   "cell_type": "markdown",
   "id": "60765d23",
   "metadata": {},
   "source": [
    "Since the goal of *fake2true* conversions is generating software \"golden models\" of the programs that will run on the target platform, and since we decide to operate with PyTorch modules, we must have access to PyTorch abstractions that mimic such operations.\n",
    "\n",
    "The CUTIE accelerator re-ternarizes the integer outputs of ternary convolutions by two-way thresholding - we model this behavior with the `LUTActivation` class, which takes an array of sets of `k` monotonically increasing thresholds (`tau`) and a single set of `k+1` quantization levels to which values are mapped.\n"
   ]
  },
  {
   "cell_type": "code",
   "execution_count": 27,
   "id": "2a1c88be",
   "metadata": {},
   "outputs": [],
   "source": [
    "class LUTActivation(nn.Module):\n",
    "    \n",
    "    def __init__(self, tau, quant_levels):\n",
    "        super(LUTActivation, self).__init__()\n",
    "        self.setup_parameters(self, tau, quant_levels)\n",
    "        self.unfolded_tau = False\n",
    "    \n",
    "    @staticmethod\n",
    "    def setup_parameters(lutmod, tau, quant_levels):\n",
    "        lutmod.register_parameter('tau', nn.Parameter(tau, requires_grad=False))\n",
    "        lutmod.register_parameter('quant_levels', nn.Parameter(quant_levels, requires_grad=False))\n",
    "        lutmod.register_parameter('q0', nn.Parameter(quant_levels[0], requires_grad=False))\n",
    "        lutmod.register_parameter('jumps', nn.Parameter(quant_levels[1:] - quant_levels[:-1], requires_grad=False))\n",
    "        \n",
    "    def forward(self, x):\n",
    "        \n",
    "        if not self.unfolded_tau:\n",
    "            self.tau.data     = self.tau[(...,) + (None,) * (x.dim() - 2)]\n",
    "            self.unfolded_tau = True\n",
    "            \n",
    "        x = x.unsqueeze(1)\n",
    "        cdf = (x - self.tau >= 0.0).float()\n",
    "        \n",
    "        y = self.q0 + torch.sum(self.jumps[(...,) + (None,) * (cdf.dim() - 2)] * cdf, 1)\n",
    "\n",
    "        return y\n"
   ]
  },
  {
   "cell_type": "markdown",
   "id": "edfff5f6",
   "metadata": {},
   "source": [
    "We have finally reached the point where we can write our first full graph rewriting rule involving some arithmetical conversions!\n",
    "In the next cells, we will define the aritmetic conversion function and the double push-out (DPO) GRR that uses such conversion.\n",
    "\n",
    "DPO GRRs should be defined by sub-classing the `DPORule` class exposed by the general-purpose module `quantlib/editing/graph/grrules/dporules.py`.\n"
   ]
  },
  {
   "cell_type": "code",
   "execution_count": 28,
   "id": "ef560819",
   "metadata": {},
   "outputs": [],
   "source": [
    "import numpy as np\n",
    "\n",
    "\n",
    "def fold_anaact_anaconv2d_bn2d_anaact(eps_x, eps_w, weight, mi, sigma, bn_eps, gamma, beta, eps_s, theta,\n",
    "                                      ceiltau=True):\n",
    "\n",
    "    def torch2numpyfp64(x):\n",
    "        return x.detach().cpu().numpy().astype(np.float64)\n",
    "\n",
    "    eps_x  = torch2numpyfp64(eps_x)\n",
    "    eps_w  = torch2numpyfp64(eps_w)\n",
    "    weight = torch2numpyfp64(weight)\n",
    "    mi     = torch2numpyfp64(mi)\n",
    "    sigma  = torch2numpyfp64(sigma)\n",
    "    gamma  = torch2numpyfp64(gamma)\n",
    "    beta   = torch2numpyfp64(beta)\n",
    "    eps_s  = torch2numpyfp64(eps_s)\n",
    "    theta  = torch2numpyfp64(theta)\n",
    "    \n",
    "    # compensate for negative gammas\n",
    "    flip   = np.sign(gamma)\n",
    "    w_tmp  = weight.transpose(1, 2, 3, 0)\n",
    "    w_tmp *= flip\n",
    "    weight = w_tmp.transpose(3, 0, 1, 2)\n",
    "\n",
    "    # https://github.com/pytorch/pytorch/blob/b5e832111e5e4bb3dd66d716d398b81fe70c6af0/torch/csrc/jit/tensorexpr/kernel.cpp#L2015\n",
    "    sigma = np.sqrt(sigma + bn_eps)\n",
    "    \n",
    "    # folding\n",
    "    xi   = gamma * (sigma ** -1)\n",
    "    zeta = beta - mi * xi\n",
    "    \n",
    "    gammaprime = flip * (xi * (eps_x * eps_w) / eps_s) # * (eps_s ** -1)\n",
    "    betaprime  = zeta / eps_s # * (eps_s ** -1)\n",
    "\n",
    "    # prepare for broadcasting\n",
    "    gammaprime = np.expand_dims(gammaprime, axis=0)\n",
    "    betaprime  = np.expand_dims(betaprime, axis=0)\n",
    "    theta      = np.expand_dims(theta, axis=-1)\n",
    "    \n",
    "    # absorb folded parameters into thresholds\n",
    "    tau = (theta - betaprime) / gammaprime # * (gammaprime ** -1)\n",
    "        \n",
    "    assert np.all(tau[0] < tau[1])\n",
    "    \n",
    "    def numpy2torchfp64(x):\n",
    "        return torch.from_numpy(x.astype(np.float64))\n",
    "\n",
    "    if ceiltau:\n",
    "        return numpy2torchfp64(np.ceil(tau)).float(), numpy2torchfp64(weight).float()\n",
    "    else:\n",
    "        return numpy2torchfp64(tau).float(), numpy2torchfp64(weight).float()\n"
   ]
  },
  {
   "cell_type": "code",
   "execution_count": 29,
   "id": "efd00c53",
   "metadata": {},
   "outputs": [],
   "source": [
    "from collections import OrderedDict\n",
    "import itertools\n",
    "\n",
    "from quantlib.editing.graphs.grrules.dporules import DPORule\n",
    "from quantlib.editing.graphs.graphs import Bipartite\n",
    "from quantlib.editing.graphs.grrules import Seeker\n",
    "from quantlib.editing.graphs.graphs.nodes import __NODE_ID_FORMAT__, PyTorchNode\n",
    "\n",
    "\n",
    "class FoldANAActANAConvBNANAActTypeARule(DPORule):  # w/o max pooling\n",
    "\n",
    "    def __init__(self, lut_entry_bits=16):\n",
    "\n",
    "        self._lut_entry_bits = lut_entry_bits\n",
    "\n",
    "        # Nodes of the interface\n",
    "        K_types = OrderedDict()\n",
    "        K_types.update({'HPTout': qg.graphs.HelperOutputPrecisionTunnel.__name__})\n",
    "        K_types.update({'HPTin':  qg.graphs.HelperInputPrecisionTunnel.__name__})\n",
    "        K_types = OrderedDict([('/'.join(['K-term', k]), v) for k, v in K_types.items()])\n",
    "\n",
    "        # Nodes in the core template graph\n",
    "        LK_types = OrderedDict()\n",
    "        LK_types.update({'ANAActin':  qa.ana.ANAActivation.__name__})\n",
    "        LK_types.update({'ANAConv':   qa.ana.ANAConv2d.__name__})\n",
    "        LK_types.update({'BatchNorm': nn.BatchNorm2d.__name__})\n",
    "        LK_types.update({'ANAActout': qa.ana.ANAActivation.__name__})\n",
    "        LK_types = OrderedDict([('/'.join(['L-term', k]), v) for k, v in LK_types.items()])\n",
    "\n",
    "        # Nodes in the core replacement graph\n",
    "        RK_types = OrderedDict()\n",
    "        RK_types.update({'TWConv': nn.Conv2d.__name__})\n",
    "        RK_types.update({'LUTAct': LUTActivation.__name__})\n",
    "        RK_types = OrderedDict([('/'.join(['R-term', k]), v) for k, v in RK_types.items()])\n",
    "\n",
    "        K_node_IDs  = list(K_types.keys())\n",
    "        LK_node_IDs = list(LK_types.keys())\n",
    "        RK_node_IDs = list(RK_types.keys())\n",
    "\n",
    "        # define the template graph L [L-term]\n",
    "        L_node_IDs = [K_node_IDs[0]] + LK_node_IDs + [K_node_IDs[-1]]\n",
    "        self.L = nx.DiGraph()\n",
    "        # Define arcs between nodes in full template graph\n",
    "        self.L.add_edges_from({(u, v) for u, v in zip(L_node_IDs[:-1], L_node_IDs[1:])})\n",
    "\n",
    "        # Here, graph is only operation nodes\n",
    "        # Necessary for seeker\n",
    "        nx.set_node_attributes(self.L, {vL: Bipartite.KERNEL for vL in set(self.L.nodes)}, 'bipartite')\n",
    "        nx.set_node_attributes(self.L, {**K_types, **LK_types}, 'type')\n",
    "\n",
    "        # define the context (sub-)graph K [K-term]\n",
    "        VK = set(K_node_IDs)  # precision tunnel nodes define the context graph\n",
    "        self.K = self.L.subgraph(VK)\n",
    "\n",
    "        # define the template (sub-)graph L\\K\n",
    "        VLK = set(self.L.nodes).difference(set(self.K.nodes))\n",
    "        self.LK = self.L.subgraph(VLK)\n",
    "\n",
    "        # define the replacement (sub-)graph R\\K [\"gluing\" R\\K to K yields the graph R, i.e., the R-term]\n",
    "        self.RK = nx.DiGraph()\n",
    "        self.RK.add_edges_from({(u, v) for u, v in zip(RK_node_IDs[:-1], RK_node_IDs[1:])})\n",
    "        nx.set_node_attributes(self.RK, {vRK: Bipartite.KERNEL for vRK in set(self.RK.nodes)}, 'bipartite')\n",
    "        nx.set_node_attributes(self.RK, RK_types, 'type')\n",
    "\n",
    "        # define the arcs that go from the vertices of K to those of R\\K, and viceversa\n",
    "        E_K2RK = {(K_node_IDs[0], RK_node_IDs[0])}\n",
    "        E_RK2K = {(RK_node_IDs[-1], K_node_IDs[-1])}\n",
    "        E_K2RK2K = E_K2RK | E_RK2K\n",
    "        # disintegrate `E_K2RK` and `E_RK2K` along fibres to speed up rule application\n",
    "        # A fibre is kind of like fixing one argument of a two input one output function and looking at all possible outputs\n",
    "        self.F_K2RK = {vK: set(arc for arc in E_K2RK if arc[0] == vK) for vK in set(self.K.nodes)}\n",
    "        self.F_RK2K = {vK: set(arc for arc in E_RK2K if arc[1] == vK) for vK in set(self.K.nodes)}\n",
    "\n",
    "        # # glue together the (sub-)graphs L\\K and R\\K along the vertices of K\n",
    "        # self.S = nx.compose(self.L, self.RK)\n",
    "        # self.S.add_edges_from(E_K2RK2K)\n",
    "\n",
    "        # since the GRR's L-term has been modified, rebuild the seeker\n",
    "        self.seeker = Seeker(self.L)\n",
    "\n",
    "        # this machinery can generate always-new identifiers for different rule applications\n",
    "        self._counter = itertools.count()\n",
    "\n",
    "    def _get_rule_count(self):\n",
    "        rule_count = ''.join(['FANABNANATA', __NODE_ID_FORMAT__.format(next(self._counter))])\n",
    "        return rule_count\n",
    "\n",
    "    def core(self, HI, g, nodes_dict):\n",
    "\n",
    "        # generate the substitute (sub-)graph J\\I\n",
    "        rule_count = self._get_rule_count()\n",
    "        g_RK2JI = {vRK: '_'.join([rule_count, vRK.replace('R-term/', '')]) for vRK in set(self.RK.nodes)}\n",
    "        JI = nx.relabel_nodes(self.RK, g_RK2JI, copy=True)\n",
    "\n",
    "        # get pointers to the old modules;\n",
    "        # these pointers will enable two actions:\n",
    "        #   1. extracting the arguments required to perform the folding\n",
    "        #   2. extracting the parameters to instantiate the new modules\n",
    "        g_L2H = {vL: vH for vH, vL in g.items()}\n",
    "        manain  = nodes_dict[g_L2H['/'.join(['L-term', 'ANAActin'])]].nobj\n",
    "        mconv2d = nodes_dict[g_L2H['/'.join(['L-term', 'ANAConv'])]].nobj\n",
    "        mbn2d   = nodes_dict[g_L2H['/'.join(['L-term', 'BatchNorm'])]].nobj\n",
    "        manaout = nodes_dict[g_L2H['/'.join(['L-term', 'ANAActout'])]].nobj\n",
    "\n",
    "        # fold\n",
    "        tau, weight = fold_anaact_anaconv2d_bn2d_anaact(manain.eps,\n",
    "                                                        mconv2d.eps, mconv2d.weight_maybe_quant,\n",
    "                                                        mbn2d.running_mean, mbn2d.running_var, mbn2d.eps, mbn2d.weight, mbn2d.bias,\n",
    "                                                        manaout.eps,\n",
    "                                                        manaout.thresholds)\n",
    "        \n",
    "        # build the new modules\n",
    "        mtwconv = nn.Conv2d(mconv2d.in_channels, mconv2d.out_channels, mconv2d.kernel_size,\n",
    "                            stride=mconv2d.stride, padding=mconv2d.padding, dilation=mconv2d.dilation, groups=mconv2d.groups,\n",
    "                            bias=mconv2d.bias is not None).to(torch.device('cpu'))\n",
    "        mtwconv.weight.data = weight\n",
    "\n",
    "        mlutact = LUTActivation(tau, manaout.quant_levels)\n",
    "\n",
    "        # register the newly created nodes\n",
    "        vJI_2_ptnode = {}\n",
    "        vJI_2_ptnode[g_RK2JI['/'.join(['R-term', 'TWConv'])]] = PyTorchNode(mtwconv)\n",
    "        vJI_2_ptnode[g_RK2JI['/'.join(['R-term', 'LUTAct'])]] = PyTorchNode(mlutact)\n",
    "\n",
    "        return JI, vJI_2_ptnode\n",
    "\n",
    "    # G: Full/original graph\n",
    "    # nodes_dict: Mapping between node identifiers of G and actual underlying objects\n",
    "    # g: One instance of all occurences of the template in G, i.e. one application point for the replacement rule -> one morphism\n",
    "    def apply(self, G, nodes_dict, g):\n",
    "\n",
    "        # create new containers\n",
    "        G = G.copy()\n",
    "        # Dictionary mapping of node identifiers to a payload\n",
    "        # keys in nodes_dict should be the same as G.nodes\n",
    "        nodes_dict = {**nodes_dict}\n",
    "\n",
    "        # characterise the match graph H\n",
    "        # Occurence of template in the graph\n",
    "        # SPMATTEO: Some assumptions to discuss\n",
    "        VI = {vH for vH, vL in g.items() if vL in set(self.K.nodes)} # Occurence of context\n",
    "        VHI = {vH for vH, vL in g.items() if vL not in set(self.K.nodes)} # Occurence of core template\n",
    "        HI = G.subgraph(VHI) # HI is the subgraph induced by the set of nodes VHI\n",
    "\n",
    "        # generate the substitute (sub-)graph J\\I (completely detached from G)\n",
    "        # Instantiate blueprint of the replacement graph\n",
    "        JI, vJI_2_ptnode = self.core(HI, g, nodes_dict)\n",
    "\n",
    "        # add the substitute (sub-)graph J\\I to the main graph G\n",
    "        G = nx.compose(G, JI) # G now has two connected but 'independent' subgraphs\n",
    "        nodes_dict.update(vJI_2_ptnode) # Add new payloads from substitute graph\n",
    "\n",
    "        # glue the substitute (sub-)graph J\\I to the interface (sub-)graph I\n",
    "        JI2RK_morphisms = Seeker(self.RK).get_morphisms(JI)\n",
    "        assert len(JI2RK_morphisms) == 1\n",
    "        g_JI2RK = JI2RK_morphisms[0]\n",
    "        g_RK2JI = {vRK: vJI for vJI, vRK in g_JI2RK.items()}\n",
    "        for vI in VI: # for each node in the interface subgraph of G\n",
    "            vK = g[vI]\n",
    "            G.add_edges_from({(vI, g_RK2JI[vRK]) for (_, vRK) in self.F_K2RK[vK]}) # incoming interface connections from G to substitute graph\n",
    "            G.add_edges_from({(g_RK2JI[vRK], vI) for (vRK, _) in self.F_RK2K[vK]}) # outcoming interface connections from substitute graph to G\n",
    "            # the new modules are fully integerized, so the precision tunnel should not embed integer numbers in floating point numbers\n",
    "            # Specific to integer arithmetic transformation -> No relation to graph editing, per-se\n",
    "            if nodes_dict[vI].ntype == qg.graphs.HelperOutputPrecisionTunnel.__name__:\n",
    "                nodes_dict[vI] = PyTorchNode(qg.graphs.HelperOutputPrecisionTunnel(1.0))\n",
    "            elif nodes_dict[vI].ntype == qg.graphs.HelperInputPrecisionTunnel.__name__:\n",
    "                nodes_dict[vI] = PyTorchNode(qg.graphs.HelperInputPrecisionTunnel(1.0))\n",
    "            else:\n",
    "                raise TypeError  # interface nodes should be objects of class `qg.graphs.HelperPrecisionTunnel` only\n",
    "\n",
    "        # discard the match (sub-)graph H\\I\n",
    "        # Assumption: removing a node also removes all arcs pointing to or from that node\n",
    "        G.remove_nodes_from(set(HI.nodes))\n",
    "\n",
    "        # Remove the payload, i.e. underying objects, accordingly\n",
    "        for vHI in VHI:\n",
    "            del nodes_dict[vHI]\n",
    "\n",
    "        return G, nodes_dict\n",
    "\n",
    "    def seek(self, G, nodes_dict):\n",
    "        gs = self.seeker.get_morphisms(G)\n",
    "        return gs\n"
   ]
  },
  {
   "cell_type": "code",
   "execution_count": 30,
   "id": "fe15b37e",
   "metadata": {},
   "outputs": [
    {
     "data": {
      "text/html": [
       "\n",
       "        <iframe\n",
       "            width=\"950\"\n",
       "            height=\"600\"\n",
       "            src=\"./figures/VGG8_ANA_F2T_derivation.pdf\"\n",
       "            frameborder=\"0\"\n",
       "            allowfullscreen\n",
       "        ></iframe>\n",
       "        "
      ],
      "text/plain": [
       "<IPython.lib.display.IFrame at 0x7fee88be6d00>"
      ]
     },
     "metadata": {},
     "output_type": "display_data"
    }
   ],
   "source": [
    "pytorche.resume()\n",
    "pytorche.set_grr(FoldANAActANAConvBNANAActTypeARule())\n",
    "pytorche.edit()\n",
    "pytorche.pause()\n",
    "\n",
    "print_and_render(pytorche.G, 'VGG8_ANA_F2T_derivation')\n"
   ]
  },
  {
   "cell_type": "code",
   "execution_count": 31,
   "id": "c3d0e74f",
   "metadata": {},
   "outputs": [],
   "source": [
    "from networkx.algorithms.dag import topological_sort"
   ]
  },
  {
   "cell_type": "code",
   "execution_count": 32,
   "id": "4ba7ad59",
   "metadata": {},
   "outputs": [
    {
     "name": "stdout",
     "output_type": "stream",
     "text": [
      "HI000000 \t\t HelperInput\n",
      "O000000 \t\t ANAConv2d\n",
      "O000001 \t\t BatchNorm2d\n",
      "O000002 \t\t ANAActivation\n",
      "HPTin000002 \t\t HelperInputPrecisionTunnel\n",
      "HPTout000003 \t\t HelperOutputPrecisionTunnel\n",
      "HPTclone000003 \t\t ANAActivation\n",
      "O000003 \t\t MaxPool2d\n",
      "O000004 \t\t ANAConv2d\n",
      "O000005 \t\t BatchNorm2d\n",
      "O000006 \t\t ANAActivation\n",
      "HPTin000006 \t\t HelperInputPrecisionTunnel\n",
      "HPTout000007 \t\t HelperOutputPrecisionTunnel\n",
      "FANABNANATA000001_TWConv \t\t Conv2d\n",
      "FANABNANATA000001_LUTAct \t\t LUTActivation\n",
      "HPTin000009 \t\t HelperInputPrecisionTunnel\n",
      "HPTout000010 \t\t HelperOutputPrecisionTunnel\n",
      "HPTclone000010 \t\t ANAActivation\n",
      "O000010 \t\t MaxPool2d\n",
      "O000011 \t\t ANAConv2d\n",
      "O000012 \t\t BatchNorm2d\n",
      "O000013 \t\t ANAActivation\n",
      "HPTin000013 \t\t HelperInputPrecisionTunnel\n",
      "HPTout000014 \t\t HelperOutputPrecisionTunnel\n",
      "FANABNANATA000000_TWConv \t\t Conv2d\n",
      "FANABNANATA000000_LUTAct \t\t LUTActivation\n",
      "HPTin000016 \t\t HelperInputPrecisionTunnel\n",
      "HPTout000017 \t\t HelperOutputPrecisionTunnel\n",
      "HPTclone000017 \t\t ANAActivation\n",
      "O000017 \t\t MaxPool2d\n",
      "O000018 \t\t AdaptiveAvgPool2d\n",
      "O000019 \t\t ViewFlattenNd\n",
      "O000020 \t\t ANALinear\n",
      "O000021 \t\t BatchNorm1d\n",
      "O000022 \t\t ANAActivation\n",
      "HPTin000022 \t\t HelperInputPrecisionTunnel\n",
      "HPTout000023 \t\t HelperOutputPrecisionTunnel\n",
      "HPTclone000023 \t\t ANAActivation\n",
      "O000023 \t\t ANALinear\n",
      "O000024 \t\t BatchNorm1d\n",
      "O000025 \t\t ANAActivation\n",
      "HPTin000025 \t\t HelperInputPrecisionTunnel\n",
      "HPTout000026 \t\t HelperOutputPrecisionTunnel\n",
      "HPTclone000026 \t\t ANAActivation\n",
      "O000026 \t\t Linear\n",
      "HO000000 \t\t HelperOutput\n"
     ]
    }
   ],
   "source": [
    "for n in topological_sort(pytorche.G):\n",
    "    print(\"{} \\t\\t {}\".format(n, pytorche.nodes_dict[n].ntype))\n"
   ]
  },
  {
   "cell_type": "code",
   "execution_count": 33,
   "id": "f9f35202",
   "metadata": {},
   "outputs": [
    {
     "name": "stderr",
     "output_type": "stream",
     "text": [
      "/Users/spmatteo/anaconda3/envs/quantlab/lib/python3.8/site-packages/quantlib-0.1-py3.8.egg/quantlib/backends/cutie/grrules/ana/folding.py:54: RuntimeWarning: invalid value encountered in reciprocal\n",
      "  xi   = gamma * (sigma ** -1)\n"
     ]
    }
   ],
   "source": [
    "pytorche.resume()\n",
    "pytorche.set_grr(qb.cutie.grrules.ana.FoldANAActANAConvBNANAActTypeBRule())\n",
    "pytorche.edit()\n",
    "pytorche.pause()\n"
   ]
  },
  {
   "cell_type": "code",
   "execution_count": 34,
   "id": "f24d4f74",
   "metadata": {},
   "outputs": [
    {
     "name": "stdout",
     "output_type": "stream",
     "text": [
      "HI000000 \t\t HelperInput\n",
      "O000000 \t\t ANAConv2d\n",
      "O000001 \t\t BatchNorm2d\n",
      "O000002 \t\t ANAActivation\n",
      "HPTin000002 \t\t HelperInputPrecisionTunnel\n",
      "HPTout000003 \t\t HelperOutputPrecisionTunnel\n",
      "FANABNANATB000000_MaxPool \t\t MaxPool2d\n",
      "FANABNANATB000000_TWConv \t\t Conv2d\n",
      "FANABNANATB000000_LUTAct \t\t LUTActivation\n",
      "HPTin000006 \t\t HelperInputPrecisionTunnel\n",
      "HPTout000007 \t\t HelperOutputPrecisionTunnel\n",
      "FANABNANATA000001_TWConv \t\t Conv2d\n",
      "FANABNANATA000001_LUTAct \t\t LUTActivation\n",
      "HPTin000009 \t\t HelperInputPrecisionTunnel\n",
      "HPTout000010 \t\t HelperOutputPrecisionTunnel\n",
      "FANABNANATB000001_MaxPool \t\t MaxPool2d\n",
      "FANABNANATB000001_TWConv \t\t Conv2d\n",
      "FANABNANATB000001_LUTAct \t\t LUTActivation\n",
      "HPTin000013 \t\t HelperInputPrecisionTunnel\n",
      "HPTout000014 \t\t HelperOutputPrecisionTunnel\n",
      "FANABNANATA000000_TWConv \t\t Conv2d\n",
      "FANABNANATA000000_LUTAct \t\t LUTActivation\n",
      "HPTin000016 \t\t HelperInputPrecisionTunnel\n",
      "HPTout000017 \t\t HelperOutputPrecisionTunnel\n",
      "HPTclone000017 \t\t ANAActivation\n",
      "O000017 \t\t MaxPool2d\n",
      "O000018 \t\t AdaptiveAvgPool2d\n",
      "O000019 \t\t ViewFlattenNd\n",
      "O000020 \t\t ANALinear\n",
      "O000021 \t\t BatchNorm1d\n",
      "O000022 \t\t ANAActivation\n",
      "HPTin000022 \t\t HelperInputPrecisionTunnel\n",
      "HPTout000023 \t\t HelperOutputPrecisionTunnel\n",
      "HPTclone000023 \t\t ANAActivation\n",
      "O000023 \t\t ANALinear\n",
      "O000024 \t\t BatchNorm1d\n",
      "O000025 \t\t ANAActivation\n",
      "HPTin000025 \t\t HelperInputPrecisionTunnel\n",
      "HPTout000026 \t\t HelperOutputPrecisionTunnel\n",
      "HPTclone000026 \t\t ANAActivation\n",
      "O000026 \t\t Linear\n",
      "HO000000 \t\t HelperOutput\n"
     ]
    }
   ],
   "source": [
    "for n in topological_sort(pytorche.G):\n",
    "    print(\"{} \\t\\t {}\".format(n, pytorche.nodes_dict[n].ntype))\n"
   ]
  },
  {
   "cell_type": "code",
   "execution_count": 35,
   "id": "1acb8174",
   "metadata": {},
   "outputs": [],
   "source": [
    "pytorche.resume()\n",
    "pytorche.set_grr(qb.cutie.grrules.ana.FoldANAActANALinearBNANAActTypeARule())\n",
    "pytorche.edit()\n",
    "pytorche.pause()\n"
   ]
  },
  {
   "cell_type": "code",
   "execution_count": 36,
   "id": "a19ef75a",
   "metadata": {},
   "outputs": [
    {
     "name": "stdout",
     "output_type": "stream",
     "text": [
      "HI000000 \t\t HelperInput\n",
      "O000000 \t\t ANAConv2d\n",
      "O000001 \t\t BatchNorm2d\n",
      "O000002 \t\t ANAActivation\n",
      "HPTin000002 \t\t HelperInputPrecisionTunnel\n",
      "HPTout000003 \t\t HelperOutputPrecisionTunnel\n",
      "FANABNANATB000000_MaxPool \t\t MaxPool2d\n",
      "FANABNANATB000000_TWConv \t\t Conv2d\n",
      "FANABNANATB000000_LUTAct \t\t LUTActivation\n",
      "HPTin000006 \t\t HelperInputPrecisionTunnel\n",
      "HPTout000007 \t\t HelperOutputPrecisionTunnel\n",
      "FANABNANATA000001_TWConv \t\t Conv2d\n",
      "FANABNANATA000001_LUTAct \t\t LUTActivation\n",
      "HPTin000009 \t\t HelperInputPrecisionTunnel\n",
      "HPTout000010 \t\t HelperOutputPrecisionTunnel\n",
      "FANABNANATB000001_MaxPool \t\t MaxPool2d\n",
      "FANABNANATB000001_TWConv \t\t Conv2d\n",
      "FANABNANATB000001_LUTAct \t\t LUTActivation\n",
      "HPTin000013 \t\t HelperInputPrecisionTunnel\n",
      "HPTout000014 \t\t HelperOutputPrecisionTunnel\n",
      "FANABNANATA000000_TWConv \t\t Conv2d\n",
      "FANABNANATA000000_LUTAct \t\t LUTActivation\n",
      "HPTin000016 \t\t HelperInputPrecisionTunnel\n",
      "HPTout000017 \t\t HelperOutputPrecisionTunnel\n",
      "HPTclone000017 \t\t ANAActivation\n",
      "O000017 \t\t MaxPool2d\n",
      "O000018 \t\t AdaptiveAvgPool2d\n",
      "O000019 \t\t ViewFlattenNd\n",
      "O000020 \t\t ANALinear\n",
      "O000021 \t\t BatchNorm1d\n",
      "O000022 \t\t ANAActivation\n",
      "HPTin000022 \t\t HelperInputPrecisionTunnel\n",
      "HPTout000023 \t\t HelperOutputPrecisionTunnel\n",
      "FANABNANALinTA000000_TWLinear \t\t Linear\n",
      "FANABNANALinTA000000_LUTAct \t\t LUTActivation\n",
      "HPTin000025 \t\t HelperInputPrecisionTunnel\n",
      "HPTout000026 \t\t HelperOutputPrecisionTunnel\n",
      "HPTclone000026 \t\t ANAActivation\n",
      "O000026 \t\t Linear\n",
      "HO000000 \t\t HelperOutput\n"
     ]
    }
   ],
   "source": [
    "for n in topological_sort(pytorche.G):\n",
    "    print(\"{} \\t\\t {}\".format(n, pytorche.nodes_dict[n].ntype))\n"
   ]
  },
  {
   "cell_type": "code",
   "execution_count": 37,
   "id": "ae4976b0",
   "metadata": {},
   "outputs": [],
   "source": [
    "pytorche.resume()\n",
    "pytorche.set_grr(qb.cutie.grrules.ana.FoldANAActANALinearBNANAActTypeBRule())\n",
    "pytorche.edit()\n",
    "pytorche.pause()\n"
   ]
  },
  {
   "cell_type": "code",
   "execution_count": 38,
   "id": "0bedbea1",
   "metadata": {},
   "outputs": [
    {
     "name": "stdout",
     "output_type": "stream",
     "text": [
      "HI000000 \t\t HelperInput\n",
      "O000000 \t\t ANAConv2d\n",
      "O000001 \t\t BatchNorm2d\n",
      "O000002 \t\t ANAActivation\n",
      "HPTin000002 \t\t HelperInputPrecisionTunnel\n",
      "HPTout000003 \t\t HelperOutputPrecisionTunnel\n",
      "FANABNANATB000000_MaxPool \t\t MaxPool2d\n",
      "FANABNANATB000000_TWConv \t\t Conv2d\n",
      "FANABNANATB000000_LUTAct \t\t LUTActivation\n",
      "HPTin000006 \t\t HelperInputPrecisionTunnel\n",
      "HPTout000007 \t\t HelperOutputPrecisionTunnel\n",
      "FANABNANATA000001_TWConv \t\t Conv2d\n",
      "FANABNANATA000001_LUTAct \t\t LUTActivation\n",
      "HPTin000009 \t\t HelperInputPrecisionTunnel\n",
      "HPTout000010 \t\t HelperOutputPrecisionTunnel\n",
      "FANABNANATB000001_MaxPool \t\t MaxPool2d\n",
      "FANABNANATB000001_TWConv \t\t Conv2d\n",
      "FANABNANATB000001_LUTAct \t\t LUTActivation\n",
      "HPTin000013 \t\t HelperInputPrecisionTunnel\n",
      "HPTout000014 \t\t HelperOutputPrecisionTunnel\n",
      "FANABNANATA000000_TWConv \t\t Conv2d\n",
      "FANABNANATA000000_LUTAct \t\t LUTActivation\n",
      "HPTin000016 \t\t HelperInputPrecisionTunnel\n",
      "HPTout000017 \t\t HelperOutputPrecisionTunnel\n",
      "FANABNANALinTB000000_MaxPool \t\t MaxPool2d\n",
      "FANABNANALinTB000000_TWLinear \t\t Linear\n",
      "FANABNANALinTB000000_LUTAct \t\t LUTActivation\n",
      "HPTin000022 \t\t HelperInputPrecisionTunnel\n",
      "HPTout000023 \t\t HelperOutputPrecisionTunnel\n",
      "FANABNANALinTA000000_TWLinear \t\t Linear\n",
      "FANABNANALinTA000000_LUTAct \t\t LUTActivation\n",
      "HPTin000025 \t\t HelperInputPrecisionTunnel\n",
      "HPTout000026 \t\t HelperOutputPrecisionTunnel\n",
      "HPTclone000026 \t\t ANAActivation\n",
      "O000026 \t\t Linear\n",
      "HO000000 \t\t HelperOutput\n"
     ]
    }
   ],
   "source": [
    "for n in topological_sort(pytorche.G):\n",
    "    print(\"{} \\t\\t {}\".format(n, pytorche.nodes_dict[n].ntype))\n"
   ]
  },
  {
   "cell_type": "markdown",
   "id": "d3444e46",
   "metadata": {},
   "source": [
    "### **Exercise**: implementing a DPO GRR\n",
    "\n",
    "In the next cell, you will implement your first DPO GRR.\n",
    "In particular, you will complete the `core` method of the rule, by invoking the `fold_anaact_anaconv2d_bn2d_anaact` with the parameters that are correct for this rule, and creating the replacement PyTorch modules.\n"
   ]
  },
  {
   "cell_type": "code",
   "execution_count": 39,
   "id": "da63e70d",
   "metadata": {},
   "outputs": [],
   "source": [
    "class FoldANAConvBNANAActRule(DPORule):\n",
    "\n",
    "    def __init__(self, lut_entry_bits=16):\n",
    "\n",
    "        self._lut_entry_bits = lut_entry_bits\n",
    "\n",
    "        # Nodes of the interface\n",
    "        K_types = OrderedDict()\n",
    "        K_types.update({'HPin':  qg.graphs.HelperInput.__name__})\n",
    "        K_types.update({'HPTin': qg.graphs.HelperInputPrecisionTunnel.__name__})\n",
    "        K_types = OrderedDict([('/'.join(['K-term', k]), v) for k, v in K_types.items()])\n",
    "\n",
    "        # Nodes in the core template graph\n",
    "        LK_types = OrderedDict()\n",
    "        LK_types.update({'ANAConv':   qa.ana.ANAConv2d.__name__})\n",
    "        LK_types.update({'BatchNorm': nn.BatchNorm2d.__name__})\n",
    "        LK_types.update({'ANAActout': qa.ana.ANAActivation.__name__})\n",
    "        LK_types = OrderedDict([('/'.join(['L-term', k]), v) for k, v in LK_types.items()])\n",
    "\n",
    "        # Nodes in the core replacement graph\n",
    "        RK_types = OrderedDict()\n",
    "        RK_types.update({'TWConv': nn.Conv2d.__name__})\n",
    "        RK_types.update({'LUTAct': LUTActivation.__name__})\n",
    "        RK_types = OrderedDict([('/'.join(['R-term', k]), v) for k, v in RK_types.items()])\n",
    "\n",
    "        K_node_IDs  = list(K_types.keys())\n",
    "        LK_node_IDs = list(LK_types.keys())\n",
    "        RK_node_IDs = list(RK_types.keys())\n",
    "\n",
    "        # define the template graph L [L-term]\n",
    "        L_node_IDs = [K_node_IDs[0]] + LK_node_IDs + [K_node_IDs[-1]]\n",
    "        self.L = nx.DiGraph()\n",
    "        # Define arcs between nodes in full template graph\n",
    "        self.L.add_edges_from({(u, v) for u, v in zip(L_node_IDs[:-1], L_node_IDs[1:])})\n",
    "\n",
    "        # Here, graph is only operation nodes\n",
    "        # Necessary for seeker\n",
    "        nx.set_node_attributes(self.L, {vL: Bipartite.KERNEL for vL in set(self.L.nodes)}, 'bipartite')\n",
    "        nx.set_node_attributes(self.L, {**K_types, **LK_types}, 'type')\n",
    "\n",
    "        # define the context (sub-)graph K [K-term]\n",
    "        VK = set(K_node_IDs)  # precision tunnel nodes define the context graph\n",
    "        self.K = self.L.subgraph(VK)\n",
    "\n",
    "        # define the template (sub-)graph L\\K\n",
    "        VLK = set(self.L.nodes).difference(set(self.K.nodes))\n",
    "        self.LK = self.L.subgraph(VLK)\n",
    "\n",
    "        # define the replacement (sub-)graph R\\K [\"gluing\" R\\K to K yields the graph R, i.e., the R-term]\n",
    "        self.RK = nx.DiGraph()\n",
    "        self.RK.add_edges_from({(u, v) for u, v in zip(RK_node_IDs[:-1], RK_node_IDs[1:])})\n",
    "        nx.set_node_attributes(self.RK, {vRK: Bipartite.KERNEL for vRK in set(self.RK.nodes)}, 'bipartite')\n",
    "        nx.set_node_attributes(self.RK, RK_types, 'type')\n",
    "\n",
    "        # define the arcs that go from the vertices of K to those of R\\K, and viceversa\n",
    "        E_K2RK = {(K_node_IDs[0], RK_node_IDs[0])}\n",
    "        E_RK2K = {(RK_node_IDs[-1], K_node_IDs[-1])}\n",
    "        E_K2RK2K = E_K2RK | E_RK2K\n",
    "        # disintegrate `E_K2RK` and `E_RK2K` along fibres to speed up rule application\n",
    "        # A fibre is kind of like fixing one argument of a two input one output function and looking at all possible outputs\n",
    "        self.F_K2RK = {vK: set(arc for arc in E_K2RK if arc[0] == vK) for vK in set(self.K.nodes)}\n",
    "        self.F_RK2K = {vK: set(arc for arc in E_RK2K if arc[1] == vK) for vK in set(self.K.nodes)}\n",
    "\n",
    "        # # glue together the (sub-)graphs L\\K and R\\K along the vertices of K\n",
    "        # self.S = nx.compose(self.L, self.RK)\n",
    "        # self.S.add_edges_from(E_K2RK2K)\n",
    "\n",
    "        # since the GRR's L-term has been modified, rebuild the seeker\n",
    "        self.seeker = Seeker(self.L)\n",
    "\n",
    "        # this machinery can generate always-new identifiers for different rule applications\n",
    "        self._counter = itertools.count()\n",
    "\n",
    "    def _get_rule_count(self):\n",
    "        rule_count = ''.join(['FConvBNANA', __NODE_ID_FORMAT__.format(next(self._counter))])\n",
    "        return rule_count\n",
    "\n",
    "    def core(self, HI, g, nodes_dict):\n",
    "\n",
    "        # generate the substitute (sub-)graph J\\I\n",
    "        rule_count = self._get_rule_count()\n",
    "        g_RK2JI = {vRK: '_'.join([rule_count, vRK.replace('R-term/', '')]) for vRK in set(self.RK.nodes)}\n",
    "        JI = nx.relabel_nodes(self.RK, g_RK2JI, copy=True)\n",
    "\n",
    "        # get pointers to the old modules;\n",
    "        # these pointers will enable two actions:\n",
    "        #   1. extracting the arguments required to perform the folding\n",
    "        #   2. extracting the parameters to instantiate the new modules\n",
    "        g_L2H = {vL: vH for vH, vL in g.items()}\n",
    "        mconv2d = nodes_dict[g_L2H['/'.join(['L-term', 'ANAConv'])]].nobj\n",
    "        mbn2d   = nodes_dict[g_L2H['/'.join(['L-term', 'BatchNorm'])]].nobj\n",
    "        manaout = nodes_dict[g_L2H['/'.join(['L-term', 'ANAActout'])]].nobj\n",
    "\n",
    "        # fold\n",
    "        tau, weight = fold_anaact_anaconv2d_bn2d_anaact(torch.Tensor([1.0]),\n",
    "                                                        mconv2d.eps, mconv2d.weight_maybe_quant,\n",
    "                                                        mbn2d.running_mean, mbn2d.running_var, mbn2d.eps, mbn2d.weight, mbn2d.bias,\n",
    "                                                        manaout.eps,\n",
    "                                                        manaout.thresholds,\n",
    "                                                        ceiltau=False)\n",
    "        \n",
    "        # build the new modules\n",
    "        mtwconv = nn.Conv2d(mconv2d.in_channels, mconv2d.out_channels, mconv2d.kernel_size,\n",
    "                            stride=mconv2d.stride, padding=mconv2d.padding, dilation=mconv2d.dilation, groups=mconv2d.groups,\n",
    "                            bias=mconv2d.bias is not None).to(torch.device('cpu'))\n",
    "        mtwconv.weight.data = weight\n",
    "\n",
    "        mlutact = LUTActivation(tau, manaout.quant_levels)\n",
    "\n",
    "        # register the newly created nodes\n",
    "        vJI_2_ptnode = {}\n",
    "        vJI_2_ptnode[g_RK2JI['/'.join(['R-term', 'TWConv'])]] = PyTorchNode(mtwconv)\n",
    "        vJI_2_ptnode[g_RK2JI['/'.join(['R-term', 'LUTAct'])]] = PyTorchNode(mlutact)\n",
    "\n",
    "        return JI, vJI_2_ptnode\n",
    "\n",
    "    # G: Full/original graph\n",
    "    # nodes_dict: Mapping between node identifiers of G and actual underlying objects\n",
    "    # g: One instance of all occurences of the template in G, i.e. one application point for the replacement rule -> one morphism\n",
    "    def apply(self, G, nodes_dict, g):\n",
    "\n",
    "        # create new containers\n",
    "        G = G.copy()\n",
    "        # Dictionary mapping of node identifiers to a payload\n",
    "        # keys in nodes_dict should be the same as G.nodes\n",
    "        nodes_dict = {**nodes_dict}\n",
    "\n",
    "        # characterise the match graph H\n",
    "        # Occurence of template in the graph\n",
    "        # SPMATTEO: Some assumptions to discuss\n",
    "        VI = {vH for vH, vL in g.items() if vL in set(self.K.nodes)} # Occurence of context\n",
    "        VHI = {vH for vH, vL in g.items() if vL not in set(self.K.nodes)} # Occurence of core template\n",
    "        HI = G.subgraph(VHI) # HI is the subgraph induced by the set of nodes VHI\n",
    "        \n",
    "        # generate the substitute (sub-)graph J\\I (completely detached from G)\n",
    "        # Instantiate blueprint of the replacement graph\n",
    "        JI, vJI_2_ptnode = self.core(HI, g, nodes_dict)\n",
    "\n",
    "        # add the substitute (sub-)graph J\\I to the main graph G\n",
    "        G = nx.compose(G, JI) # G now has two connected but 'independent' subgraphs\n",
    "        nodes_dict.update(vJI_2_ptnode) # Add new payloads from substitute graph\n",
    "\n",
    "        # glue the substitute (sub-)graph J\\I to the interface (sub-)graph I\n",
    "        JI2RK_morphisms = Seeker(self.RK).get_morphisms(JI)\n",
    "        assert len(JI2RK_morphisms) == 1\n",
    "        g_JI2RK = JI2RK_morphisms[0]\n",
    "        g_RK2JI = {vRK: vJI for vJI, vRK in g_JI2RK.items()}\n",
    "\n",
    "        for vI in VI: # for each node in the interface subgraph of G\n",
    "            vK = g[vI]\n",
    "            G.add_edges_from({(vI, g_RK2JI[vRK]) for (_, vRK) in self.F_K2RK[vK]}) # incoming interface connections from G to substitute graph\n",
    "            G.add_edges_from({(g_RK2JI[vRK], vI) for (vRK, _) in self.F_RK2K[vK]}) # outcoming interface connections from substitute graph to G\n",
    "            # the new modules are fully integerized, so the precision tunnel should not embed integer numbers in floating point numbers\n",
    "            # Specific to integer arithmetic transformation -> No relation to graph editing, per-se\n",
    "            if nodes_dict[vI].ntype == qg.graphs.HelperInput.__name__:\n",
    "                pass\n",
    "            elif nodes_dict[vI].ntype == qg.graphs.HelperInputPrecisionTunnel.__name__:\n",
    "                nodes_dict[vI] = PyTorchNode(qg.graphs.HelperInputPrecisionTunnel(1.0))\n",
    "            else:\n",
    "                raise TypeError  # interface nodes should be objects of class `qg.graphs.HelperPrecisionTunnel` only\n",
    "\n",
    "        # discard the match (sub-)graph H\\I\n",
    "        # Assumption: removing a node also removes all arcs pointing to or from that node\n",
    "        G.remove_nodes_from(set(HI.nodes))\n",
    "\n",
    "        # Remove the payload, i.e. underying objects, accordingly\n",
    "        for vHI in VHI:\n",
    "            del nodes_dict[vHI]\n",
    "\n",
    "        return G, nodes_dict\n",
    "\n",
    "    def seek(self, G, nodes_dict):\n",
    "        gs = self.seeker.get_morphisms(G)\n",
    "        return gs\n"
   ]
  },
  {
   "cell_type": "code",
   "execution_count": 40,
   "id": "513e5d93",
   "metadata": {},
   "outputs": [],
   "source": [
    "pytorche.resume()\n",
    "pytorche.set_grr(qb.cutie.grrules.ana.FoldANAConvBNANAActRule())\n",
    "pytorche.edit()\n",
    "pytorche.pause()\n"
   ]
  },
  {
   "cell_type": "code",
   "execution_count": 41,
   "id": "a841623e",
   "metadata": {},
   "outputs": [
    {
     "name": "stdout",
     "output_type": "stream",
     "text": [
      "HI000000 \t\t HelperInput\n",
      "FConvBNANA000000_TWConv \t\t Conv2d\n",
      "FConvBNANA000000_LUTAct \t\t LUTActivation\n",
      "HPTin000002 \t\t HelperInputPrecisionTunnel\n",
      "HPTout000003 \t\t HelperOutputPrecisionTunnel\n",
      "FANABNANATB000000_MaxPool \t\t MaxPool2d\n",
      "FANABNANATB000000_TWConv \t\t Conv2d\n",
      "FANABNANATB000000_LUTAct \t\t LUTActivation\n",
      "HPTin000006 \t\t HelperInputPrecisionTunnel\n",
      "HPTout000007 \t\t HelperOutputPrecisionTunnel\n",
      "FANABNANATA000001_TWConv \t\t Conv2d\n",
      "FANABNANATA000001_LUTAct \t\t LUTActivation\n",
      "HPTin000009 \t\t HelperInputPrecisionTunnel\n",
      "HPTout000010 \t\t HelperOutputPrecisionTunnel\n",
      "FANABNANATB000001_MaxPool \t\t MaxPool2d\n",
      "FANABNANATB000001_TWConv \t\t Conv2d\n",
      "FANABNANATB000001_LUTAct \t\t LUTActivation\n",
      "HPTin000013 \t\t HelperInputPrecisionTunnel\n",
      "HPTout000014 \t\t HelperOutputPrecisionTunnel\n",
      "FANABNANATA000000_TWConv \t\t Conv2d\n",
      "FANABNANATA000000_LUTAct \t\t LUTActivation\n",
      "HPTin000016 \t\t HelperInputPrecisionTunnel\n",
      "HPTout000017 \t\t HelperOutputPrecisionTunnel\n",
      "FANABNANALinTB000000_MaxPool \t\t MaxPool2d\n",
      "FANABNANALinTB000000_TWLinear \t\t Linear\n",
      "FANABNANALinTB000000_LUTAct \t\t LUTActivation\n",
      "HPTin000022 \t\t HelperInputPrecisionTunnel\n",
      "HPTout000023 \t\t HelperOutputPrecisionTunnel\n",
      "FANABNANALinTA000000_TWLinear \t\t Linear\n",
      "FANABNANALinTA000000_LUTAct \t\t LUTActivation\n",
      "HPTin000025 \t\t HelperInputPrecisionTunnel\n",
      "HPTout000026 \t\t HelperOutputPrecisionTunnel\n",
      "HPTclone000026 \t\t ANAActivation\n",
      "O000026 \t\t Linear\n",
      "HO000000 \t\t HelperOutput\n"
     ]
    }
   ],
   "source": [
    "for n in topological_sort(pytorche.G):\n",
    "    print(\"{} \\t\\t {}\".format(n, pytorche.nodes_dict[n].ntype))\n"
   ]
  },
  {
   "cell_type": "code",
   "execution_count": 42,
   "id": "8389bf27",
   "metadata": {},
   "outputs": [],
   "source": [
    "pytorche.resume()\n",
    "pytorche.set_grr(qb.cutie.grrules.ana.FoldANAActLinearRule())\n",
    "pytorche.edit()\n",
    "pytorche.pause()\n"
   ]
  },
  {
   "cell_type": "markdown",
   "id": "4b804c53",
   "metadata": {},
   "source": [
    "After applying all the GRRs, we should see that the derived `PyTorchGraph` consist only of helper and supported modules.\n"
   ]
  },
  {
   "cell_type": "code",
   "execution_count": 43,
   "id": "78d4ee12",
   "metadata": {},
   "outputs": [
    {
     "name": "stdout",
     "output_type": "stream",
     "text": [
      "HI000000 \t\t HelperInput\n",
      "FConvBNANA000000_TWConv \t\t Conv2d\n",
      "FConvBNANA000000_LUTAct \t\t LUTActivation\n",
      "HPTin000002 \t\t HelperInputPrecisionTunnel\n",
      "HPTout000003 \t\t HelperOutputPrecisionTunnel\n",
      "FANABNANATB000000_MaxPool \t\t MaxPool2d\n",
      "FANABNANATB000000_TWConv \t\t Conv2d\n",
      "FANABNANATB000000_LUTAct \t\t LUTActivation\n",
      "HPTin000006 \t\t HelperInputPrecisionTunnel\n",
      "HPTout000007 \t\t HelperOutputPrecisionTunnel\n",
      "FANABNANATA000001_TWConv \t\t Conv2d\n",
      "FANABNANATA000001_LUTAct \t\t LUTActivation\n",
      "HPTin000009 \t\t HelperInputPrecisionTunnel\n",
      "HPTout000010 \t\t HelperOutputPrecisionTunnel\n",
      "FANABNANATB000001_MaxPool \t\t MaxPool2d\n",
      "FANABNANATB000001_TWConv \t\t Conv2d\n",
      "FANABNANATB000001_LUTAct \t\t LUTActivation\n",
      "HPTin000013 \t\t HelperInputPrecisionTunnel\n",
      "HPTout000014 \t\t HelperOutputPrecisionTunnel\n",
      "FANABNANATA000000_TWConv \t\t Conv2d\n",
      "FANABNANATA000000_LUTAct \t\t LUTActivation\n",
      "HPTin000016 \t\t HelperInputPrecisionTunnel\n",
      "HPTout000017 \t\t HelperOutputPrecisionTunnel\n",
      "FANABNANALinTB000000_MaxPool \t\t MaxPool2d\n",
      "FANABNANALinTB000000_TWLinear \t\t Linear\n",
      "FANABNANALinTB000000_LUTAct \t\t LUTActivation\n",
      "HPTin000022 \t\t HelperInputPrecisionTunnel\n",
      "HPTout000023 \t\t HelperOutputPrecisionTunnel\n",
      "FANABNANALinTA000000_TWLinear \t\t Linear\n",
      "FANABNANALinTA000000_LUTAct \t\t LUTActivation\n",
      "HPTin000025 \t\t HelperInputPrecisionTunnel\n",
      "HPTout000026 \t\t HelperOutputPrecisionTunnel\n",
      "FANAActLinear000000_Linear \t\t Linear\n",
      "HO000000 \t\t HelperOutput\n"
     ]
    }
   ],
   "source": [
    "for n in topological_sort(pytorche.G):\n",
    "    print(\"{} \\t\\t {}\".format(n, pytorche.nodes_dict[n].ntype))\n"
   ]
  },
  {
   "cell_type": "markdown",
   "id": "7eeec8b1",
   "metadata": {},
   "source": [
    "### Removing *helper* nodes\n",
    "\n",
    "Before generating code for the true-quantized network, we need to remove the helper nodes.\n",
    "This can be done using rules defined in the `quantlib/editing/graphs/grrules/helper.py` module.\n"
   ]
  },
  {
   "cell_type": "code",
   "execution_count": 44,
   "id": "a154bb49",
   "metadata": {},
   "outputs": [],
   "source": [
    "pytorche.resume()\n",
    "pytorche.set_grr(qg.grrules.RemovePrecisionTunnelRule())\n",
    "pytorche.edit()\n",
    "pytorche.set_grr(qg.grrules.RemoveInputNodeRule())\n",
    "pytorche.edit()\n",
    "pytorche.set_grr(qg.grrules.RemoveOutputNodeRule())\n",
    "pytorche.edit()\n",
    "pytorche.pause()\n"
   ]
  },
  {
   "cell_type": "code",
   "execution_count": 45,
   "id": "9f43b473",
   "metadata": {},
   "outputs": [
    {
     "name": "stdout",
     "output_type": "stream",
     "text": [
      "FConvBNANA000000_TWConv \t\t Conv2d\n",
      "FConvBNANA000000_LUTAct \t\t LUTActivation\n",
      "FANABNANATB000000_MaxPool \t\t MaxPool2d\n",
      "FANABNANATB000000_TWConv \t\t Conv2d\n",
      "FANABNANATB000000_LUTAct \t\t LUTActivation\n",
      "FANABNANATA000001_TWConv \t\t Conv2d\n",
      "FANABNANATA000001_LUTAct \t\t LUTActivation\n",
      "FANABNANATB000001_MaxPool \t\t MaxPool2d\n",
      "FANABNANATB000001_TWConv \t\t Conv2d\n",
      "FANABNANATB000001_LUTAct \t\t LUTActivation\n",
      "FANABNANATA000000_TWConv \t\t Conv2d\n",
      "FANABNANATA000000_LUTAct \t\t LUTActivation\n",
      "FANABNANALinTB000000_MaxPool \t\t MaxPool2d\n",
      "FANABNANALinTB000000_TWLinear \t\t Linear\n",
      "FANABNANALinTB000000_LUTAct \t\t LUTActivation\n",
      "FANABNANALinTA000000_TWLinear \t\t Linear\n",
      "FANABNANALinTA000000_LUTAct \t\t LUTActivation\n",
      "FANAActLinear000000_Linear \t\t Linear\n"
     ]
    }
   ],
   "source": [
    "for n in topological_sort(pytorche.G):\n",
    "    print(\"{} \\t\\t {}\".format(n, pytorche.nodes_dict[n].ntype))\n",
    "    "
   ]
  },
  {
   "cell_type": "markdown",
   "id": "f4d96b27",
   "metadata": {},
   "source": [
    "### Validating the conversion\n",
    "\n",
    "At the moment, we are still working on code generation functionalities.\n",
    "Therefore, we will conclude this tutorial by manually deriving a true-quantized PyTorch network object, writing a mock-up `forward` method for it, and comparing the performance of the fake-quantized network with that of the true-quantized one.\n"
   ]
  },
  {
   "cell_type": "code",
   "execution_count": 46,
   "id": "58fdb274",
   "metadata": {},
   "outputs": [],
   "source": [
    "truequantnet = nn.Sequential(*[pytorche.nodes_dict[n].nobj for n in topological_sort(pytorche.G)])\n",
    "\n",
    "def truequantnet_forward(truequantnet: nn.Module,\n",
    "                         x:            torch.Tensor):\n",
    "    y = x\n",
    "    for i in range(0, 13):\n",
    "        y = truequantnet[i](y)\n",
    "    y = y.view(y.shape[0], -1)\n",
    "    for i in range(13, 18):\n",
    "        y = truequantnet[i](y)\n",
    "    \n",
    "    return y\n"
   ]
  },
  {
   "cell_type": "code",
   "execution_count": 47,
   "id": "e6daa5f9",
   "metadata": {},
   "outputs": [
    {
     "name": "stdout",
     "output_type": "stream",
     "text": [
      "Files already downloaded and verified\n",
      "Fake-quantized network accuracy:             10.800%\n",
      "True-quantized network accuracy:             10.800%\n",
      "Agreement percentage between fake and true: 100.000%\n"
     ]
    }
   ],
   "source": [
    "import torchvision\n",
    "import torchvision.transforms as transforms\n",
    "\n",
    "\n",
    "transform   = transforms.Compose([transforms.ToTensor(),\n",
    "                                  transforms.Normalize((0.4914, 0.4822, 0.4465), (0.2470, 0.2430, 0.2610))])\n",
    "test_set    = torchvision.datasets.CIFAR10(root=os.path.join(os.curdir, 'data'), train=False, download=True, transform=transform)\n",
    "test_loader = torch.utils.data.DataLoader(test_set, batch_size=1, shuffle=True, num_workers=1)\n",
    "\n",
    "fakenet = net\n",
    "truenet = truequantnet\n",
    "\n",
    "to_test      = 500  # checking all 10k test images can take too much time on CPU...\n",
    "assert 0 < to_test <= len(test_set)\n",
    "\n",
    "fake_correct = 0\n",
    "true_correct = 0\n",
    "agree        = 0\n",
    "\n",
    "for i, (x, y) in enumerate(test_loader):\n",
    "    \n",
    "    if i < to_test:\n",
    "        yfake = fakenet(x)\n",
    "        ytrue = truequantnet_forward(truenet, x)\n",
    "\n",
    "        fake_correct += torch.argmax(yfake) == y\n",
    "        true_correct += torch.argmax(ytrue) == y\n",
    "        agree        += torch.argmax(ytrue) == torch.argmax(yfake)\n",
    "\n",
    "print(\"Fake-quantized network accuracy:            {:7.3f}%\".format(100 * fake_correct.item() / to_test))\n",
    "print(\"True-quantized network accuracy:            {:7.3f}%\".format(100 * true_correct.item() / to_test))\n",
    "print(\"Agreement percentage between fake and true: {:7.3f}%\".format(100 * agree.item()        / to_test))\n"
   ]
  },
  {
   "cell_type": "code",
   "execution_count": null,
   "id": "1f49c740",
   "metadata": {},
   "outputs": [],
   "source": []
  }
 ],
 "metadata": {
  "kernelspec": {
   "display_name": "Python 3",
   "language": "python",
   "name": "python3"
  },
  "language_info": {
   "codemirror_mode": {
    "name": "ipython",
    "version": 3
   },
   "file_extension": ".py",
   "mimetype": "text/x-python",
   "name": "python",
   "nbconvert_exporter": "python",
   "pygments_lexer": "ipython3",
   "version": "3.8.2"
  }
 },
 "nbformat": 4,
 "nbformat_minor": 5
}
