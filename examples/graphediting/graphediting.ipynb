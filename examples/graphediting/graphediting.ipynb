{
 "cells": [
  {
   "cell_type": "markdown",
   "id": "08d8760a",
   "metadata": {},
   "source": [
    "# Graph editing\n",
    "\n",
    "In this notebook we describe some fundamental graph manipulations that occur when transforming computational graphs.\n",
    "More specifically, we describe two kind of manipulations:\n",
    "\n",
    "* tree traversal and **leaf replacement**, which are useful in the context of the so-called *float2fake* conversions;\n",
    "* graph morphisms and **algebraic graph rewriting**, which are useful in the context of the so-called *fake2true* conversions.\n",
    "\n",
    "For didactic purposes, in the following cells we define some structures and utilities to print out informative plots.\n"
   ]
  },
  {
   "cell_type": "code",
   "execution_count": 1,
   "id": "520fbe7f",
   "metadata": {},
   "outputs": [],
   "source": [
    "from collections import namedtuple\n",
    "from enum import unique, Enum, IntEnum\n",
    "\n",
    "\n",
    "# template appearance of GraphViz components\n",
    "\n",
    "GVNodeAppearance = namedtuple('GVNodeAppearance', ['fontsize', 'fontcolor',                   # node label\n",
    "                                                   'penwidth', 'pencolor',                    # node boundary\n",
    "                                                   'shape', 'height', 'width', 'fillcolor'])  # node body\n",
    "GVEdgeAppearance = namedtuple('GVEdgeAppearance', ['penwidth', 'color'])\n",
    "\n",
    "\n",
    "# node types and tree traversal\n",
    "\n",
    "@unique\n",
    "class NodeType(IntEnum):\n",
    "    CONTAINER     = 0\n",
    "    LINEAR        = 1\n",
    "    NONLINEAR     = 2\n",
    "    POOLING       = 3\n",
    "    NORMALISATION = 4\n",
    "\n",
    "\n",
    "style_node_type = {\n",
    "    NodeType.CONTAINER:     GVNodeAppearance(fontsize='6', fontcolor='black',\n",
    "                                             penwidth='1', pencolor='black',\n",
    "                                             shape='circle', height='1.0', width='1.0', fillcolor='lightslategray'),\n",
    "    NodeType.LINEAR:        GVNodeAppearance(fontsize='6', fontcolor='black',\n",
    "                                             penwidth='1', pencolor='black',\n",
    "                                             shape='circle', height='1.0', width='1.0', fillcolor='lightskyblue'),\n",
    "    NodeType.NONLINEAR:     GVNodeAppearance(fontsize='6', fontcolor='black',\n",
    "                                             penwidth='1', pencolor='black',\n",
    "                                             shape='circle', height='1.0', width='1.0', fillcolor='lightseagreen'),\n",
    "    NodeType.POOLING:       GVNodeAppearance(fontsize='6', fontcolor='black',\n",
    "                                             penwidth='1', pencolor='black',\n",
    "                                             shape='circle', height='1.0', width='1.0', fillcolor='lightsalmon'),\n",
    "    NodeType.NORMALISATION: GVNodeAppearance(fontsize='6', fontcolor='black',\n",
    "                                             penwidth='1', pencolor='black',\n",
    "                                             shape='circle', height='1.0', width='1.0', fillcolor='lightgoldenrod')\n",
    "}\n",
    "\n",
    "\n",
    "@unique\n",
    "class NodeContainerLeaf(IntEnum):\n",
    "    CONTAINER = 0\n",
    "    LEAF      = 1\n",
    "\n",
    "\n",
    "style_node_containerleaf = {\n",
    "    NodeContainerLeaf.CONTAINER: GVNodeAppearance(fontsize='6', fontcolor='black',\n",
    "                                                  penwidth='1', pencolor='black',\n",
    "                                                  shape='circle', height='1.0', width='1.0', fillcolor='sienna1'),\n",
    "    NodeContainerLeaf.LEAF:      GVNodeAppearance(fontsize='6', fontcolor='darkgreen',\n",
    "                                                  penwidth='2', pencolor='darkgreen',\n",
    "                                                  shape='circle', height='1.0', width='1.0', fillcolor='palegreen3')\n",
    "}\n",
    "\n",
    "\n",
    "type_2_cl = {\n",
    "    NodeType.CONTAINER:     NodeContainerLeaf.CONTAINER,\n",
    "    NodeType.LINEAR:        NodeContainerLeaf.LEAF,\n",
    "    NodeType.NONLINEAR:     NodeContainerLeaf.LEAF,\n",
    "    NodeType.POOLING:       NodeContainerLeaf.LEAF,\n",
    "    NodeType.NORMALISATION: NodeContainerLeaf.LEAF\n",
    "}\n",
    "\n",
    "\n",
    "# graph components highlights\n",
    "\n",
    "@unique\n",
    "class NodeState(IntEnum):\n",
    "    INACTIVE  = 0\n",
    "    ACTIVEPOS = 1\n",
    "    ACTIVENEG = 2\n",
    "\n",
    "\n",
    "style_node_state = {\n",
    "    NodeState.INACTIVE:  GVNodeAppearance(fontsize='6', fontcolor='black',\n",
    "                                          penwidth='1', pencolor='darkgray',\n",
    "                                          shape='circle', height='1.0', width='1.0', fillcolor='gray'),\n",
    "    NodeState.ACTIVEPOS: GVNodeAppearance(fontsize='6', fontcolor='darkgreen',\n",
    "                                          penwidth='2', pencolor='darkgreen',\n",
    "                                          shape='circle', height='1.0', width='1.0', fillcolor='chartreuse'),\n",
    "    NodeState.ACTIVENEG: GVNodeAppearance(fontsize='6', fontcolor='crimson',\n",
    "                                          penwidth='2', pencolor='crimson',\n",
    "                                          shape='circle', height='1.0', width='1.0', fillcolor='firebrick2')\n",
    "}\n",
    "\n",
    "\n",
    "@unique\n",
    "class EdgeState(IntEnum):\n",
    "    INACTIVE  = 0\n",
    "    ACTIVEPOS = 1\n",
    "    ACTIVENEG = 2\n",
    "\n",
    "\n",
    "style_edge_state = {\n",
    "    EdgeState.INACTIVE:  GVEdgeAppearance(penwidth='1', color='gray'),\n",
    "    EdgeState.ACTIVEPOS: GVEdgeAppearance(penwidth='2', color='darkgreen'),\n",
    "    EdgeState.ACTIVENEG: GVEdgeAppearance(penwidth='2', color='crimson')\n",
    "}\n",
    "\n",
    "\n",
    "# graph rewriting rules\n",
    "\n",
    "@unique\n",
    "class NodeGRR(IntEnum):\n",
    "    CONTEXT     = 0  # K-term\n",
    "    TEMPLATE    = 1  # L-term\n",
    "    REPLACEMENT = 2  # R-term\n",
    "\n",
    "\n",
    "style_node_grr = {\n",
    "    NodeGRR.CONTEXT:     GVNodeAppearance(fontsize='6', fontcolor='black',\n",
    "                                          penwidth='1', pencolor='black',\n",
    "                                          shape='circle', height='1.0', width='1.0', fillcolor='goldenrod'),\n",
    "    NodeGRR.TEMPLATE:    GVNodeAppearance(fontsize='6', fontcolor='black',\n",
    "                                          penwidth='1', pencolor='black',\n",
    "                                          shape='circle', height='1.0', width='1.0', fillcolor='turquoise4'),\n",
    "    NodeGRR.REPLACEMENT: GVNodeAppearance(fontsize='6', fontcolor='black',\n",
    "                                          penwidth='1', pencolor='black',\n",
    "                                          shape='circle', height='1.0', width='1.0', fillcolor='orange')\n",
    "}\n",
    "\n",
    "\n",
    "@unique\n",
    "class EdgeGRR(IntEnum):\n",
    "    CONTEXT             = 0  # K-term\n",
    "    TEMPLATE            = 1  # L-term (to be removed)\n",
    "    REPLACEMENT         = 2  # R-term (to be added)\n",
    "    CONTEXT2TEMPLATE    = 3  # L-term (to be removed)\n",
    "    CONTEXT2REPLACEMENT = 4  # R-term (to be added)\n",
    "\n",
    "\n",
    "style_edge_grr = {\n",
    "    EdgeGRR.CONTEXT:             GVEdgeAppearance(penwidth='2', color='goldenrod'),\n",
    "    EdgeGRR.TEMPLATE:            GVEdgeAppearance(penwidth='2', color='turquoise4'),\n",
    "    EdgeGRR.REPLACEMENT:         GVEdgeAppearance(penwidth='2', color='orange'),\n",
    "    EdgeGRR.CONTEXT2TEMPLATE:    GVEdgeAppearance(penwidth='2', color='turquoise'),\n",
    "    EdgeGRR.CONTEXT2REPLACEMENT: GVEdgeAppearance(penwidth='2', color='orangered2')\n",
    "}\n"
   ]
  },
  {
   "cell_type": "code",
   "execution_count": 2,
   "id": "8c49eb3d",
   "metadata": {},
   "outputs": [],
   "source": [
    "import os\n",
    "import networkx as nx\n",
    "import graphviz as gv\n",
    "from IPython.display import display, SVG, IFrame\n",
    "\n",
    "from typing import TypeVar\n",
    "from typing import Union, Set, Tuple, List, Dict\n",
    "\n",
    "\n",
    "NodeName = TypeVar('NodeName', int, str)\n",
    "\n",
    "\n",
    "def nx_2_gv(G:            nx.DiGraph,\n",
    "            revert_arcs:  bool = False,\n",
    "            node_2_label: Dict[NodeName, str] = dict(),\n",
    "            node_2_style: Dict[NodeName, GVNodeAppearance] = dict(),\n",
    "            arc_2_style:  Dict[NodeName, GVEdgeAppearance] = dict(),\n",
    "            render_format:str = 'png') -> gv.Digraph:\n",
    "    \"\"\"Convert a NetworkX graph into a PyGraphViz graph.\n",
    "    \n",
    "    GraphViz's annotation format allows descriptive renderings of graphs, which\n",
    "    make it an ideal tool for didactic purposes. This function takes a NetworkX\n",
    "    directed graph and produces a PyGraphViz equivalent representation,\n",
    "    annotating the nodes and arcs as specified by labelling and style arguments.\n",
    "    \"\"\"\n",
    "    \n",
    "    gvG = gv.Digraph(format=render_format)\n",
    "    \n",
    "    for node in G.nodes:\n",
    "\n",
    "        # retrieve node label\n",
    "        try:\n",
    "            label = node_2_label[node]\n",
    "        except KeyError:\n",
    "            label = ''\n",
    "\n",
    "        # retrieve node style\n",
    "        try:\n",
    "            style = node_2_style[node]._asdict()\n",
    "        except KeyError:\n",
    "            style = {}\n",
    "\n",
    "        gvG.node(str(node), label, **style, style='filled')\n",
    "    \n",
    "    for arc in G.edges:\n",
    "        \n",
    "        # retrieve edge style\n",
    "        try:\n",
    "            style = arc_2_style[arc]._asdict()\n",
    "        except KeyError:\n",
    "            style = {}\n",
    "\n",
    "        s = arc[1] if revert_arcs else arc[0]\n",
    "        e = arc[0] if revert_arcs else arc[1]\n",
    "        gvG.edge(str(s), str(e), **style)  # print trees top-down in case leaves point to root, and not viceversa\n",
    "    \n",
    "    return gvG\n",
    "\n",
    "\n",
    "def print_and_render(G:            nx.DiGraph,\n",
    "                     filename:     str,\n",
    "                     revert_arcs:  bool = False,\n",
    "                     node_2_label: dict = dict(),\n",
    "                     node_2_style: dict = dict(),\n",
    "                     arc_2_style:  dict = dict(),\n",
    "                     width:        int = 950,\n",
    "                     height:       int = 500) -> None:\n",
    "    \n",
    "    dir_figures = os.path.join(os.path.curdir, 'figures')\n",
    "    if not os.path.isdir(dir_figures):\n",
    "        os.makedirs(dir_figures, exist_ok=True)\n",
    "\n",
    "    gvG = nx_2_gv(G, revert_arcs=revert_arcs, node_2_label=node_2_label, node_2_style=node_2_style, arc_2_style=arc_2_style, render_format='svg')\n",
    "    gvG.render(directory=dir_figures, filename=filename)\n",
    "    display(IFrame(os.path.join(dir_figures, filename + '.svg'), width, height))\n",
    "\n",
    "\n",
    "def show_highlighted_part(G:        nx.DiGraph,\n",
    "                          filename: str,\n",
    "                          VH:       Set[NodeName],\n",
    "                          EH:       Union[Set[Tuple[NodeName, NodeName]], None] = None,\n",
    "                          show_pos: bool = True,\n",
    "                          width:    int = 950,\n",
    "                          height:   int = 600) -> None:\n",
    "    \n",
    "    assert VH.issubset(set(G.nodes))\n",
    "    \n",
    "    if EH is not None:\n",
    "        assert EH.issubset(set(G.edges))\n",
    "    else:\n",
    "        EH = set(G.subgraph(VH).edges)  # highlight the sub-graph induced by VH\n",
    "        \n",
    "    node_2_style = {n: style_node_state[NodeState.ACTIVEPOS if show_pos else NodeState.ACTIVENEG] if n in VH else style_node_state[NodeState.INACTIVE] for n in set(G.nodes)}\n",
    "    arc_2_style  = {a: style_edge_state[EdgeState.ACTIVEPOS if show_pos else EdgeState.ACTIVENEG] if a in EH else style_edge_state[EdgeState.INACTIVE] for a in set(G.edges)}\n",
    "    \n",
    "    print_and_render(G, filename, node_2_style=node_2_style, arc_2_style=arc_2_style, width=width, height=height)\n"
   ]
  },
  {
   "cell_type": "markdown",
   "id": "6780f0bd",
   "metadata": {},
   "source": [
    "### Note: displaying the graph visualizations\n",
    "\n",
    "The figures rendered in this notebook are *scalable vector graphics* (SVG) files.\n",
    "This means that you can render them at higher resolution without any perceivable loss in quality.\n",
    "To zoom in a figure rendered in this notebook, right-click on the figure, select the `This Frame` option, and then the `Open Frame in New Tab` option.\n"
   ]
  },
  {
   "cell_type": "markdown",
   "id": "77b63bf8",
   "metadata": {},
   "source": [
    "## Tree traversal and leaf replacement\n",
    "\n",
    "Trees are data structures that emerge naturally when representing hierarchical relationships, where each member is linked just to a single, hierachically superior member.\n",
    "The root of the tree represents the top of the hierarchy.\n",
    "\n",
    "*Tree traversal* is the process of starting from the root of a tree and descending down to a leaf by taking a specific path.\n",
    "*Leaf replacement* is the process by which a leaf node (which we name the *replacement target*) is replaced by a new leaf or by a new tree whose root takes the place of the replaced node; in this last case, the replacement tree becomes a sub-tree of the original tree.\n",
    "\n",
    "To highlight the importance of tree traversal and leaf replacement in the context of QuantLab, in the next cell we define a collection of very simplified data structures that make it possible to mimic the PyTorch network definition process.\n"
   ]
  },
  {
   "cell_type": "code",
   "execution_count": 3,
   "id": "7528a4fc",
   "metadata": {},
   "outputs": [],
   "source": [
    "from __future__ import annotations\n",
    "\n",
    "from typing import TypeVar, NewType, Union, List, Tuple\n",
    "from collections.abc import Iterator\n",
    "\n",
    "\n",
    "ModuleType = TypeVar('ModuleType', bound=NodeType)\n",
    "ModuleName = NewType('ModuleName', str)\n",
    "\n",
    "\n",
    "class Module(object):\n",
    "    \n",
    "    def __init__(self, children: List[Module], type_: ModuleType, name: Union[ModuleName, None] = None) -> None:\n",
    "        self._type          = type_\n",
    "        self._name          = name\n",
    "        self.named_children = dict()\n",
    "        self._register_children(children)\n",
    "    \n",
    "    @property\n",
    "    def type_(self) -> ModuleType:\n",
    "        return self._type\n",
    "    \n",
    "    @property\n",
    "    def name(self) -> Union[ModuleName, None]:\n",
    "        return self._name\n",
    "\n",
    "    def _register_children(self, children: List[Module]):\n",
    "\n",
    "        children_names = [m.name for m in children if m.name is not None]\n",
    "        assert len(children_names) in {0, len(children)}  # either all modules in the container have a name or none of them has\n",
    "\n",
    "        if len(children_names) > 0:\n",
    "            named_children = {n: m for n, m in zip(children_names, children)}\n",
    "        else:\n",
    "            named_children = {str(i): m for i, m in enumerate(children)}\n",
    "            \n",
    "        self.named_children = named_children\n",
    "        \n",
    "    @property\n",
    "    def children(self) -> List[Module]:\n",
    "        return [m for m in self.named_children.values()]\n",
    "    \n",
    "\n",
    "class Container(Module):\n",
    "    \n",
    "    def __init__(self, children: List[Module], name: Union[ModuleName, None] = None) -> None:\n",
    "        assert len(children) > 0  # at least one module is required when building a `Container`\n",
    "        super(Container, self).__init__(children=children, type_=NodeType.CONTAINER, name=name)\n",
    "        \n",
    "\n",
    "class Basic(Module):\n",
    "    \n",
    "    def __init__(self, type_: ModuleType, name: Union[ModuleName, None] = None) -> None:\n",
    "        super(Basic, self).__init__(children=list(), type_=type_, name=name)\n",
    "        "
   ]
  },
  {
   "cell_type": "markdown",
   "id": "32941ea4",
   "metadata": {},
   "source": [
    "In the next cell we implement a simple feedforward \"network\" that hierarchically aggregates basic modules into larger containers.\n",
    "In practice, PyTorch developers use container modules to group modules that are functionally and semantically related.\n"
   ]
  },
  {
   "cell_type": "code",
   "execution_count": 4,
   "id": "9f9fb49b",
   "metadata": {},
   "outputs": [],
   "source": [
    "pilot      = Container([Basic(NodeType.LINEAR),\n",
    "                        Basic(NodeType.NORMALISATION),\n",
    "                        Basic(NodeType.NONLINEAR),\n",
    "                        Basic(NodeType.POOLING)],\n",
    "                       name=ModuleName('pilot'))\n",
    "features   = Container([Basic(NodeType.LINEAR),\n",
    "                        Basic(NodeType.NORMALISATION),\n",
    "                        Basic(NodeType.NONLINEAR), Basic(NodeType.POOLING),\n",
    "                        Basic(NodeType.LINEAR),\n",
    "                        Basic(NodeType.NORMALISATION),\n",
    "                        Basic(NodeType.NONLINEAR)],\n",
    "                       name=ModuleName('features'))\n",
    "pooling    = Basic(NodeType.POOLING, name=ModuleName('pooling'))\n",
    "classifier = Container([Basic(NodeType.LINEAR),\n",
    "                        Basic(NodeType.NORMALISATION),\n",
    "                        Basic(NodeType.NONLINEAR),\n",
    "                        Basic(NodeType.LINEAR)],\n",
    "                       name=ModuleName('classifier'))\n",
    "net        = Container([pilot,\n",
    "                        features,\n",
    "                        pooling,\n",
    "                        classifier],\n",
    "                       name=ModuleName('net'))\n"
   ]
  },
  {
   "cell_type": "markdown",
   "id": "3a53c628",
   "metadata": {},
   "source": [
    "In the next cell, we define a couple of abstractions that can help us visualising the structure of the \"network\" object that we just defined.\n"
   ]
  },
  {
   "cell_type": "code",
   "execution_count": 5,
   "id": "7bebe6da",
   "metadata": {},
   "outputs": [],
   "source": [
    "ModulePath = NewType('ModulePath', str)  # string of dot-separated `ModuleName`s\n",
    "\n",
    "\n",
    "def get_network_tree(net: Module) -> nx.DiGraph:\n",
    "\n",
    "    def traverse_tree(module: Module, module_name: ModulePath = ModulePath(''), G: nx.DiGraph() = nx.DiGraph()):\n",
    "\n",
    "        if module_name == '':  # bootstrap tree traversal\n",
    "            G.add_node(module_name, type_=module.type_, module=module)\n",
    "        \n",
    "        for child_name, child_module in module.named_children.items():\n",
    "            full_name = '.'.join([module_name, child_name]) if module_name != '' else child_name\n",
    "            G.add_node(full_name, type_=child_module.type_, module=child_module)\n",
    "            G.add_edge(full_name, module_name)\n",
    "            traverse_tree(child_module, module_name=full_name, G=G)\n",
    "            \n",
    "        return G\n",
    "    \n",
    "    return traverse_tree(net)\n"
   ]
  },
  {
   "cell_type": "markdown",
   "id": "bf407384",
   "metadata": {},
   "source": [
    "In the next cell, we will visualise the structure of the previously-created \"network\".\n",
    "\n",
    "In the first picture we highlight the distinction between `Container` (brown) and `Basic` (green) nodes.\n",
    "\n",
    "In the second picture we highlight the mutual differences between `Basic` nodes:\n",
    "\n",
    "* blue nodes represent nodes of type `NodeType.LINEAR`;\n",
    "* yellow nodes represent nodes of type `NodeType.NORMALISATION`;\n",
    "* green nodes represent nodes of type `NodeType.NONLINEAR`;\n",
    "* red nodes represent nodes of type `NodeType.POOLING`.\n"
   ]
  },
  {
   "cell_type": "code",
   "execution_count": 6,
   "id": "184254da",
   "metadata": {},
   "outputs": [
    {
     "data": {
      "text/html": [
       "\n",
       "        <iframe\n",
       "            width=\"950\"\n",
       "            height=\"500\"\n",
       "            src=\"./figures/T_containerleaf.svg\"\n",
       "            frameborder=\"0\"\n",
       "            allowfullscreen\n",
       "        ></iframe>\n",
       "        "
      ],
      "text/plain": [
       "<IPython.lib.display.IFrame at 0x7fae02128730>"
      ]
     },
     "metadata": {},
     "output_type": "display_data"
    },
    {
     "data": {
      "text/html": [
       "\n",
       "        <iframe\n",
       "            width=\"950\"\n",
       "            height=\"500\"\n",
       "            src=\"./figures/T_nodetype.svg\"\n",
       "            frameborder=\"0\"\n",
       "            allowfullscreen\n",
       "        ></iframe>\n",
       "        "
      ],
      "text/plain": [
       "<IPython.lib.display.IFrame at 0x7fae00db1e50>"
      ]
     },
     "metadata": {},
     "output_type": "display_data"
    }
   ],
   "source": [
    "T = get_network_tree(net)\n",
    "\n",
    "# show dichotomy container-leaf\n",
    "print_and_render(T, 'T_containerleaf', revert_arcs=True, node_2_label={n: n for n in set(T.nodes)}, node_2_style={n: style_node_containerleaf[type_2_cl[type_]] for n, type_ in nx.get_node_attributes(T, 'type_').items()})\n",
    "\n",
    "# show node types\n",
    "print_and_render(T, 'T_nodetype', revert_arcs=True, node_2_label={n: n for n in set(T.nodes)}, node_2_style={n: style_node_type[type_] for n, type_ in nx.get_node_attributes(T, 'type_').items()})\n"
   ]
  },
  {
   "cell_type": "markdown",
   "id": "418f1d0e",
   "metadata": {},
   "source": [
    "For the purpose of leaf replacement, it is sufficient to have access to the information required to select the replacement targets and access them.\n",
    "It is not necessary to save the whole tree structure.\n",
    "\n",
    "For this reason, we define a `LeafNode` abstraction that describes:\n",
    "\n",
    "* a way to traverse the tree and access the leaf node object, i.e., a *path*; this can be used to perform the leaf replacement;\n",
    "* a handle on the leaf node object; this handle can be used to inspect it and determine whether it is a suitable replacement target.\n"
   ]
  },
  {
   "cell_type": "code",
   "execution_count": 7,
   "id": "b83d1c62",
   "metadata": {},
   "outputs": [],
   "source": [
    "from typing import NamedTuple\n",
    "\n",
    "\n",
    "class LeafNode(NamedTuple):\n",
    "    path:   ModulePath\n",
    "    module: Module\n",
    "        \n",
    "    def __repr__(self) -> str:\n",
    "        return \"Path: {:20s} - Type: {}\".format(self.path, self.module.type_)\n",
    "\n",
    "    \n",
    "def get_nodes_list(T: nx.DiGraph) -> List[LeafNode]:\n",
    "    return [LeafNode(path=n, module=m) for n, m in nx.get_node_attributes(T, 'module').items() if len(list(T.predecessors(n))) == 0]\n"
   ]
  },
  {
   "cell_type": "code",
   "execution_count": 8,
   "id": "0d56fdef",
   "metadata": {},
   "outputs": [
    {
     "name": "stdout",
     "output_type": "stream",
     "text": [
      "Path: pilot.0              - Type: 1\n",
      "Path: pilot.1              - Type: 4\n",
      "Path: pilot.2              - Type: 2\n",
      "Path: pilot.3              - Type: 3\n",
      "Path: features.0           - Type: 1\n",
      "Path: features.1           - Type: 4\n",
      "Path: features.2           - Type: 2\n",
      "Path: features.3           - Type: 3\n",
      "Path: features.4           - Type: 1\n",
      "Path: features.5           - Type: 4\n",
      "Path: features.6           - Type: 2\n",
      "Path: pooling              - Type: 3\n",
      "Path: classifier.0         - Type: 1\n",
      "Path: classifier.1         - Type: 4\n",
      "Path: classifier.2         - Type: 2\n",
      "Path: classifier.3         - Type: 1\n"
     ]
    }
   ],
   "source": [
    "for ln in get_nodes_list(T):\n",
    "    print(ln)\n",
    "    "
   ]
  },
  {
   "cell_type": "markdown",
   "id": "73e7d43a",
   "metadata": {},
   "source": [
    "In the next cell we define a function that, given a `Module`, a path to a target basic sub-module of its, and a new replacement module, traverses the tree of modules and replaces the leaf with the new module.\n"
   ]
  },
  {
   "cell_type": "code",
   "execution_count": 9,
   "id": "dd4748ad",
   "metadata": {},
   "outputs": [],
   "source": [
    "def replace_node(module: Module, path: ModulePath, newmodule: Module):\n",
    "    \n",
    "    try:\n",
    "        child_name, subpath = path.split('.', 1)\n",
    "        replace_node(module=module.named_children[child_name], path=subpath, newmodule=newmodule)\n",
    "    except ValueError:\n",
    "        child_name = path\n",
    "        assert isinstance(module.named_children[child_name], Basic)\n",
    "        module.named_children[child_name] = newmodule\n"
   ]
  },
  {
   "cell_type": "markdown",
   "id": "6b1fb8c3",
   "metadata": {},
   "source": [
    "Let's apply the function to replace the `Module`s of type `NodeType.LINEAR` with a `Container` module composed of two `Basic` modules, one of type `NodeType.NONLINEAR` and the other of type `NodeType.LINEAR`."
   ]
  },
  {
   "cell_type": "code",
   "execution_count": 10,
   "id": "56f92849",
   "metadata": {},
   "outputs": [],
   "source": [
    "for ln in filter(lambda ln: ln.module.type_ == NodeType.LINEAR, get_nodes_list(T)):\n",
    "    newmodule = Container([Basic(NodeType.NONLINEAR),\n",
    "                           Basic(NodeType.LINEAR)])\n",
    "    replace_node(net, ln.path, newmodule)\n",
    "    "
   ]
  },
  {
   "cell_type": "markdown",
   "id": "3097b367",
   "metadata": {},
   "source": [
    "Let's check if the function had the desired behaviour."
   ]
  },
  {
   "cell_type": "code",
   "execution_count": 11,
   "id": "694d22b1",
   "metadata": {},
   "outputs": [
    {
     "data": {
      "text/html": [
       "\n",
       "        <iframe\n",
       "            width=\"950\"\n",
       "            height=\"500\"\n",
       "            src=\"./figures/newT_containerleaf.svg\"\n",
       "            frameborder=\"0\"\n",
       "            allowfullscreen\n",
       "        ></iframe>\n",
       "        "
      ],
      "text/plain": [
       "<IPython.lib.display.IFrame at 0x7fae00e27580>"
      ]
     },
     "metadata": {},
     "output_type": "display_data"
    },
    {
     "data": {
      "text/html": [
       "\n",
       "        <iframe\n",
       "            width=\"950\"\n",
       "            height=\"500\"\n",
       "            src=\"./figures/newT_nodetype.svg\"\n",
       "            frameborder=\"0\"\n",
       "            allowfullscreen\n",
       "        ></iframe>\n",
       "        "
      ],
      "text/plain": [
       "<IPython.lib.display.IFrame at 0x7fae00db1a00>"
      ]
     },
     "metadata": {},
     "output_type": "display_data"
    }
   ],
   "source": [
    "newT = get_network_tree(net)\n",
    "    \n",
    "# show dichotomy container-leaf\n",
    "print_and_render(newT, 'newT_containerleaf', revert_arcs=True, node_2_label={n: n for n in set(newT.nodes)}, node_2_style={n: style_node_containerleaf[type_2_cl[type_]] for n, type_ in nx.get_node_attributes(newT, 'type_').items()})\n",
    "\n",
    "# show node types\n",
    "print_and_render(newT, 'newT_nodetype', revert_arcs=True, node_2_label={n: n for n in set(newT.nodes)}, node_2_style={n: style_node_type[type_] for n, type_ in nx.get_node_attributes(newT, 'type_').items()})\n"
   ]
  },
  {
   "cell_type": "code",
   "execution_count": 12,
   "id": "0b1eb943",
   "metadata": {},
   "outputs": [
    {
     "name": "stdout",
     "output_type": "stream",
     "text": [
      "Path: pilot.0.0            - Type: 2\n",
      "Path: pilot.0.1            - Type: 1\n",
      "Path: pilot.1              - Type: 4\n",
      "Path: pilot.2              - Type: 2\n",
      "Path: pilot.3              - Type: 3\n",
      "Path: features.0.0         - Type: 2\n",
      "Path: features.0.1         - Type: 1\n",
      "Path: features.1           - Type: 4\n",
      "Path: features.2           - Type: 2\n",
      "Path: features.3           - Type: 3\n",
      "Path: features.4.0         - Type: 2\n",
      "Path: features.4.1         - Type: 1\n",
      "Path: features.5           - Type: 4\n",
      "Path: features.6           - Type: 2\n",
      "Path: pooling              - Type: 3\n",
      "Path: classifier.0.0       - Type: 2\n",
      "Path: classifier.0.1       - Type: 1\n",
      "Path: classifier.1         - Type: 4\n",
      "Path: classifier.2         - Type: 2\n",
      "Path: classifier.3.0       - Type: 2\n",
      "Path: classifier.3.1       - Type: 1\n"
     ]
    }
   ],
   "source": [
    "for ln in get_nodes_list(newT):\n",
    "    print(ln)\n"
   ]
  },
  {
   "cell_type": "markdown",
   "id": "e2cc7e8f",
   "metadata": {},
   "source": [
    "## Graph morphisms and algebraic graph rewriting\n",
    "\n",
    "The task of *graph rewriting* is concerned with transforming graphs into other graphs.\n",
    "Therefore, it is an important topic in graph theory.\n",
    "\n",
    "In particular, *algebraic graph rewriting* defines graph rewritings as sequences of *derivations*, transformations obtained from the application of so-called *graph rewriting rules* (GRRs).\n"
   ]
  },
  {
   "cell_type": "code",
   "execution_count": 13,
   "id": "b160dc6c",
   "metadata": {},
   "outputs": [
    {
     "data": {
      "text/html": [
       "\n",
       "        <iframe\n",
       "            width=\"950\"\n",
       "            height=\"700\"\n",
       "            src=\"./figures/G_nodetype.svg\"\n",
       "            frameborder=\"0\"\n",
       "            allowfullscreen\n",
       "        ></iframe>\n",
       "        "
      ],
      "text/plain": [
       "<IPython.lib.display.IFrame at 0x7fae020fcf10>"
      ]
     },
     "metadata": {},
     "output_type": "display_data"
    }
   ],
   "source": [
    "from collections import OrderedDict\n",
    "\n",
    "\n",
    "# define nodes and connectivity of an example graph\n",
    "G_node_2_type = OrderedDict([( 0, NodeType.LINEAR),\n",
    "                             ( 1, NodeType.NORMALISATION),\n",
    "                             ( 2, NodeType.NONLINEAR),\n",
    "                             ( 3, NodeType.POOLING),\n",
    "                             ( 4, NodeType.LINEAR),        ( 9, NodeType.LINEAR),\n",
    "                             ( 5, NodeType.NORMALISATION), (10, NodeType.NORMALISATION),\n",
    "                             ( 6, NodeType.NONLINEAR),\n",
    "                             ( 7, NodeType.LINEAR),\n",
    "                             ( 8, NodeType.NORMALISATION),\n",
    "                             (11, NodeType.LINEAR),\n",
    "                             (12, NodeType.NONLINEAR),\n",
    "                             (13, NodeType.POOLING),\n",
    "                             (14, NodeType.LINEAR),        (19, NodeType.LINEAR),\n",
    "                             (15, NodeType.NORMALISATION), (20, NodeType.POOLING),\n",
    "                             (16, NodeType.NONLINEAR),\n",
    "                             (17, NodeType.LINEAR),\n",
    "                             (18, NodeType.NORMALISATION),\n",
    "                             (21, NodeType.LINEAR),\n",
    "                             (22, NodeType.NONLINEAR),\n",
    "                             (23, NodeType.POOLING),\n",
    "                             (24, NodeType.LINEAR)])\n",
    "VG                        = set(G_node_2_type.keys())  # nodes set\n",
    "EG                        = {( 0,  1),                 # arcs set\n",
    "                             ( 1,  2),\n",
    "                             ( 2,  3),\n",
    "                             ( 3,  4), ( 3,  9),\n",
    "                             ( 4,  5), ( 9, 10),\n",
    "                             ( 5,  6),\n",
    "                             ( 6,  7),\n",
    "                             ( 7,  8),\n",
    "                             ( 8, 11), (10, 11),\n",
    "                             (11, 12),\n",
    "                             (12, 13),\n",
    "                             (13, 14), (13, 19),\n",
    "                             (14, 15), (19, 20),\n",
    "                             (15, 16),\n",
    "                             (16, 17),\n",
    "                             (17, 18),\n",
    "                             (18, 21), (20, 21),\n",
    "                             (21, 22),\n",
    "                             (22, 23),\n",
    "                             (23, 24)}\n",
    "\n",
    "# build (directed) graph\n",
    "G = nx.DiGraph()\n",
    "G.add_nodes_from(VG)\n",
    "G.add_edges_from(EG)\n",
    "\n",
    "# label nodes with type information\n",
    "nx.set_node_attributes(G, G_node_2_type, 'type_')\n",
    "\n",
    "# show graph\n",
    "print_and_render(G, 'G_nodetype', node_2_style={n: style_node_type[type_] for n, type_ in nx.get_node_attributes(G, 'type_').items()}, height=700)\n"
   ]
  },
  {
   "cell_type": "markdown",
   "id": "39269add",
   "metadata": {},
   "source": [
    "### Defining the \"blueprint\" of a rewriting rule\n",
    "\n"
   ]
  },
  {
   "cell_type": "code",
   "execution_count": 14,
   "id": "bd88b6f9",
   "metadata": {},
   "outputs": [],
   "source": [
    "# define template L nodes and connectivity\n",
    "L_node_2_type = OrderedDict([( 0, NodeType.NONLINEAR),\n",
    "                             ( 1, NodeType.POOLING),\n",
    "                             ( 2, NodeType.LINEAR),        ( 7, NodeType.LINEAR),\n",
    "                             ( 3, NodeType.NORMALISATION), ( 8, NodeType.NORMALISATION),\n",
    "                             ( 4, NodeType.NONLINEAR),\n",
    "                             ( 5, NodeType.LINEAR),\n",
    "                             ( 6, NodeType.NORMALISATION),\n",
    "                             ( 9, NodeType.LINEAR),\n",
    "                             (10, NodeType.NONLINEAR),\n",
    "                             (11, NodeType.POOLING)])\n",
    "VL                        = set(L_node_2_type.keys())\n",
    "EL                        = {( 0,  1),\n",
    "                             ( 1,  2), ( 1,  7),\n",
    "                             ( 2,  3), ( 7,  8),\n",
    "                             ( 3,  4),\n",
    "                             ( 4,  5),\n",
    "                             ( 5,  6),\n",
    "                             ( 6,  9), ( 8,  9),\n",
    "                             ( 9, 10),\n",
    "                             (10, 11)}\n",
    "\n",
    "# build (directed) graph\n",
    "L = nx.DiGraph()\n",
    "L.add_nodes_from(VL)\n",
    "L.add_edges_from(EL)\n",
    "nx.set_node_attributes(L, L_node_2_type, 'type_')\n",
    "\n",
    "# relabel nodes to reflect the role they have in the GRR\n",
    "VK = {0, 11}\n",
    "nx.relabel_nodes(L, {n: '/'.join([('K' if n in VK else 'L') + '-term', str(n)]) for n in VL}, copy=False)\n",
    "VL = set(L.nodes)\n",
    "EL = set(L.edges)\n",
    "\n",
    "# define context K as sub-graph of L\n",
    "VK = {n for n in L.nodes if n.startswith('K')}\n",
    "K  = L.subgraph(VK)  # in this case we use the induced sub-graph (https://en.wikipedia.org/wiki/Induced_subgraph), which has no edges\n",
    "EK = set(K.edges)\n",
    "\n",
    "# isolate \"core\" template L\\K and context-template connections\n",
    "VLK     = VL.difference(VK)\n",
    "LK      = L.subgraph(VLK)\n",
    "ELK     = set(LK.edges)\n",
    "EK2LK2K = EL.difference(EK | ELK)\n",
    "\n",
    "# define \"core\" replacement R\\K\n",
    "RK_node_2_type = OrderedDict([(12, NodeType.POOLING),\n",
    "                              (13, NodeType.LINEAR),    (16, NodeType.LINEAR),\n",
    "                              (14, NodeType.NONLINEAR),\n",
    "                              (15, NodeType.LINEAR),\n",
    "                              (17, NodeType.LINEAR),\n",
    "                              (18, NodeType.NONLINEAR)])\n",
    "VRK                        = set(RK_node_2_type.keys())\n",
    "ERK                        = {(12, 13), (12, 16),\n",
    "                              (13, 14),\n",
    "                              (14, 15),\n",
    "                              (15, 17), (16, 17),\n",
    "                              (17, 18)}\n",
    "\n",
    "# build (directed) graph\n",
    "RK = nx.DiGraph()\n",
    "RK.add_nodes_from(VRK)\n",
    "RK.add_edges_from(ERK)\n",
    "nx.set_node_attributes(RK, RK_node_2_type, 'type_')\n",
    "\n",
    "# relabel nodes to reflect the role they have in the GRR\n",
    "nx.relabel_nodes(RK, {n: '/'.join(['R-term', str(n)]) for n in VRK}, copy=False)\n",
    "VRK = set(RK.nodes)\n",
    "ERK = set(RK.edges)\n",
    "\n",
    "# glue R\\K to the context graph\n",
    "S = nx.compose(L, RK)\n",
    "EK2RK2K = {('K-term/0', 'R-term/12'), ('R-term/18', 'K-term/11')}\n",
    "S.add_edges_from(EK2RK2K)\n",
    "FK2RK = {vK: {a for a in EK2RK2K if a[0] == vK} for vK in VK}\n",
    "FRK2K = {vK: {a for a in EK2RK2K if a[1] == vK} for vK in VK}\n",
    "\n",
    "# identify the (full) replacement R\n",
    "R  = S.subgraph(VK | VRK)\n",
    "VR = set(R.nodes)\n",
    "ER = set(R.edges)\n"
   ]
  },
  {
   "cell_type": "markdown",
   "id": "843cff4d",
   "metadata": {},
   "source": [
    "In the next cell, we show the full \"blueprint\" of the GRR and highlight its components using different colours:\n",
    "\n",
    "* in gold we show the context graph `K`;\n",
    "* in blue we show the template core graph `L\\K`;\n",
    "* in light blue we show the connections between the context and the template core;\n",
    "* in orange we show the replacement core graph `R\\K`;\n",
    "* in red we show the connections between the context and the replacement core.\n"
   ]
  },
  {
   "cell_type": "code",
   "execution_count": 15,
   "id": "7a9fe3eb",
   "metadata": {},
   "outputs": [
    {
     "data": {
      "text/html": [
       "\n",
       "        <iframe\n",
       "            width=\"950\"\n",
       "            height=\"700\"\n",
       "            src=\"./figures/GRR_S_rule_parts.svg\"\n",
       "            frameborder=\"0\"\n",
       "            allowfullscreen\n",
       "        ></iframe>\n",
       "        "
      ],
      "text/plain": [
       "<IPython.lib.display.IFrame at 0x7fae00e90250>"
      ]
     },
     "metadata": {},
     "output_type": "display_data"
    },
    {
     "data": {
      "text/html": [
       "\n",
       "        <iframe\n",
       "            width=\"950\"\n",
       "            height=\"700\"\n",
       "            src=\"./figures/GRR_S_nodetype.svg\"\n",
       "            frameborder=\"0\"\n",
       "            allowfullscreen\n",
       "        ></iframe>\n",
       "        "
      ],
      "text/plain": [
       "<IPython.lib.display.IFrame at 0x7fae00e902e0>"
      ]
     },
     "metadata": {},
     "output_type": "display_data"
    }
   ],
   "source": [
    "# prepare the styles of the GRR's components\n",
    "node_grr = dict()\n",
    "node_grr.update({n: NodeGRR.CONTEXT     for n in VK})\n",
    "node_grr.update({n: NodeGRR.TEMPLATE    for n in VLK})\n",
    "node_grr.update({n: NodeGRR.REPLACEMENT for n in VRK})\n",
    "\n",
    "arc_grr = dict()\n",
    "arc_grr.update({a: EdgeGRR.CONTEXT             for a in EK})\n",
    "arc_grr.update({a: EdgeGRR.TEMPLATE            for a in ELK})\n",
    "arc_grr.update({a: EdgeGRR.REPLACEMENT         for a in ERK})\n",
    "arc_grr.update({a: EdgeGRR.CONTEXT2TEMPLATE    for a in EK2LK2K})\n",
    "arc_grr.update({a: EdgeGRR.CONTEXT2REPLACEMENT for a in EK2RK2K})\n",
    "\n",
    "nx.set_node_attributes(S, node_grr, 'node_grr')\n",
    "nx.set_edge_attributes(S, arc_grr,  'arc_grr')\n",
    "\n",
    "# show the GRR parts\n",
    "print_and_render(S, 'GRR_S_rule_parts', node_2_style={n: style_node_grr[grr] for n, grr in nx.get_node_attributes(S, 'node_grr').items()}, arc_2_style={a: style_edge_grr[grr] for a, grr in nx.get_edge_attributes(S, 'arc_grr').items()}, height=700)\n",
    "print_and_render(S, 'GRR_S_nodetype', node_2_style={n: style_node_type[type_] for n, type_ in nx.get_node_attributes(S, 'type_').items()}, height=700)"
   ]
  },
  {
   "cell_type": "markdown",
   "id": "3b1b6682",
   "metadata": {},
   "source": [
    "### Identifying application points for a rewriting rule\n",
    "\n",
    "\n"
   ]
  },
  {
   "cell_type": "code",
   "execution_count": 16,
   "id": "61c8f535",
   "metadata": {},
   "outputs": [],
   "source": [
    "from networkx.algorithms import isomorphism\n",
    "\n",
    "\n",
    "def find_morphisms(G: nx.DiGraph,\n",
    "                   L: nx.DiGraph) -> List[Dict[NodeName, NodeName]]:\n",
    "\n",
    "    matcher      = isomorphism.DiGraphMatcher(G, L)\n",
    "    isomorphisms = list(matcher.subgraph_isomorphisms_iter())\n",
    "    \n",
    "    return isomorphisms\n",
    "\n",
    "\n",
    "isomorphisms = find_morphisms(G, L)\n"
   ]
  },
  {
   "cell_type": "markdown",
   "id": "a0d95a07",
   "metadata": {},
   "source": [
    "The serch for isomorphisms found two sub-graphs of `G` that are structurally identical to the rule template `L`.\n",
    "The first sub-graph is also semantically identical, in that corresponding nodes have the same type.\n"
   ]
  },
  {
   "cell_type": "code",
   "execution_count": 17,
   "id": "6d03b56c",
   "metadata": {},
   "outputs": [
    {
     "name": "stdout",
     "output_type": "stream",
     "text": [
      " 2 (2) --> K-term/0  (2)\n",
      " 3 (3) --> L-term/1  (3)\n",
      " 4 (1) --> L-term/2  (1)\n",
      " 5 (4) --> L-term/3  (4)\n",
      " 6 (2) --> L-term/4  (2)\n",
      " 7 (1) --> L-term/5  (1)\n",
      " 8 (4) --> L-term/6  (4)\n",
      " 9 (1) --> L-term/7  (1)\n",
      "10 (4) --> L-term/8  (4)\n",
      "11 (1) --> L-term/9  (1)\n",
      "12 (2) --> L-term/10 (2)\n",
      "13 (3) --> K-term/11 (3)\n"
     ]
    },
    {
     "data": {
      "text/html": [
       "\n",
       "        <iframe\n",
       "            width=\"950\"\n",
       "            height=\"600\"\n",
       "            src=\"./figures/H1_typed.svg\"\n",
       "            frameborder=\"0\"\n",
       "            allowfullscreen\n",
       "        ></iframe>\n",
       "        "
      ],
      "text/plain": [
       "<IPython.lib.display.IFrame at 0x7fae00e90a00>"
      ]
     },
     "metadata": {},
     "output_type": "display_data"
    }
   ],
   "source": [
    "for vH, vL in isomorphisms[0].items():\n",
    "    print(\"{:2d} ({:1d}) --> {:9s} ({:1d})\".format(vH, G.nodes[vH]['type_'], vL, L.nodes[vL]['type_']))\n",
    "\n",
    "show_highlighted_part(G, 'H1_typed', VH=set(isomorphisms[0].keys()), show_pos=True)\n"
   ]
  },
  {
   "cell_type": "markdown",
   "id": "67c16ca6",
   "metadata": {},
   "source": [
    "Instead, the node with ID `20` in the second matched sub-graph has a different type from the corresponding node (the node of `L` witgh ID `L-term/8`)."
   ]
  },
  {
   "cell_type": "code",
   "execution_count": 18,
   "id": "93aab16a",
   "metadata": {},
   "outputs": [
    {
     "name": "stdout",
     "output_type": "stream",
     "text": [
      "12 (2) --> K-term/0  (2)\n",
      "13 (3) --> L-term/1  (3)\n",
      "14 (1) --> L-term/2  (1)\n",
      "15 (4) --> L-term/3  (4)\n",
      "16 (2) --> L-term/4  (2)\n",
      "17 (1) --> L-term/5  (1)\n",
      "18 (4) --> L-term/6  (4)\n",
      "19 (1) --> L-term/7  (1)\n",
      "20 (3) --> L-term/8  (4)\n",
      "21 (1) --> L-term/9  (1)\n",
      "22 (2) --> L-term/10 (2)\n",
      "23 (3) --> K-term/11 (3)\n"
     ]
    },
    {
     "data": {
      "text/html": [
       "\n",
       "        <iframe\n",
       "            width=\"950\"\n",
       "            height=\"600\"\n",
       "            src=\"./figures/H2_untyped.svg\"\n",
       "            frameborder=\"0\"\n",
       "            allowfullscreen\n",
       "        ></iframe>\n",
       "        "
      ],
      "text/plain": [
       "<IPython.lib.display.IFrame at 0x7fae02128040>"
      ]
     },
     "metadata": {},
     "output_type": "display_data"
    }
   ],
   "source": [
    "for vH, vL in isomorphisms[1].items():\n",
    "    print(\"{:2d} ({:1d}) --> {:9s} ({:1d})\".format(vH, G.nodes[vH]['type_'], vL, L.nodes[vL]['type_']))\n",
    "\n",
    "show_highlighted_part(G, 'H2_untyped', VH=set(isomorphisms[1].keys()), show_pos=False)\n"
   ]
  },
  {
   "cell_type": "markdown",
   "id": "e6e1b743",
   "metadata": {},
   "source": [
    "For this reason, the search for application points for GRRs must include semantic information."
   ]
  },
  {
   "cell_type": "code",
   "execution_count": 19,
   "id": "9f7d7393",
   "metadata": {},
   "outputs": [],
   "source": [
    "def find_typed_morphisms(G: nx.DiGraph,\n",
    "                         L: nx.DiGraph) -> List[Dict[NodeName, NodeName]]:\n",
    "\n",
    "    isomorphisms = find_morphisms(G, L)\n",
    "    \n",
    "    def is_typed_morphism(G: nx.DiGraph,\n",
    "                          L: nx.DiGraph,\n",
    "                          g: Dict[NodeName, NodeName]) -> bool:\n",
    "        \n",
    "        is_ok = True\n",
    "\n",
    "        for vG, vL in g.items():\n",
    "            is_ok = is_ok & (G.nodes[vG]['type_'] == L.nodes[vL]['type_'])\n",
    "        \n",
    "        return is_ok\n",
    "    \n",
    "    typed_isomorphisms = list(filter(lambda g: is_typed_morphism(G, L, g), isomorphisms))\n",
    "    \n",
    "    return typed_isomorphisms\n"
   ]
  },
  {
   "cell_type": "code",
   "execution_count": 20,
   "id": "d28cbb0a",
   "metadata": {},
   "outputs": [],
   "source": [
    "typed_isomorphisms = find_typed_morphisms(G, L)\n",
    "g = typed_isomorphisms[0]\n"
   ]
  },
  {
   "cell_type": "markdown",
   "id": "7099a7b7",
   "metadata": {},
   "source": [
    "### *Exercise*: implementing the application of the rewriting rule\n",
    "\n",
    "In the next cell we will implement the application of the rewriting rule.\n"
   ]
  },
  {
   "cell_type": "code",
   "execution_count": 21,
   "id": "4acf4a63",
   "metadata": {},
   "outputs": [],
   "source": [
    "# identify the interface I and the match core H\\I\n",
    "VI = {vG for vG, vL in g.items() if vL in VK}  # VI is the set of nodes in the interface graph\n",
    "I  = G.subgraph(VI)                            # I is the interface graph, which is the sub-graph induced by the nodes in VI\n",
    "EI = set(I.edges)                              # EI is the set of arcs in the interface graph\n",
    "\n",
    "VHI = set(g.keys()).difference(VI) # VHI is the set of nodes in the match core graph\n",
    "HI  = G.subgraph(VHI)              # HI is the match core graph, which is the sub-graph induced by the nodes in VHI\n",
    "EHI = set(HI.edges)                # EHI is the set of arcs in the match core graph\n",
    "\n",
    "# generate substitute core J\\I\n",
    "JI = nx.relabel_nodes(RK, {vRK: '_'.join(['GRR', vRK.replace('R-term/', '')]) for vRK in VRK}, copy=True)  # JI is the substitute graph\n",
    "G  = nx.compose(G, JI)                                                                                     # the graph G now has two disjoint components: the \"old\" G and JI\n",
    "\n",
    "# glue substitute core J\\I to the interface I\n",
    "JI2RK_morphisms = find_typed_morphisms(JI, RK)\n",
    "assert len(JI2RK_morphisms) == 1\n",
    "g_JI2RK = JI2RK_morphisms[0]\n",
    "g_RK2JI = {vRK: vJI for vJI, vRK in g_JI2RK.items()}  # find out which \"role\" each node of JI is playing as per the \"screenplay\" represented by the replacement core RK\n",
    "\n",
    "for vI in VI:                                                # for each node in the interface graph I...\n",
    "    vK = g[vI]                                               # ... find out which \"role\" it is playing in the \"screenplay\" represented by the context K\n",
    "    EvI2JI = {(vI, g_RK2JI[vRK]) for (_, vRK) in FK2RK[vK]}\n",
    "    EJI2vI = {(g_RK2JI[vRK], vI) for (vRK, _) in FRK2K[vK]}\n",
    "    G.add_edges_from(EvI2JI | EJI2vI)\n",
    "\n",
    "# remove match core (NetworkX removes dangling edges automatically)\n",
    "\n",
    "G.remove_nodes_from(HI)\n"
   ]
  },
  {
   "cell_type": "markdown",
   "id": "15f7ec3d",
   "metadata": {},
   "source": [
    "Let's verify if the derivation had the intended effect."
   ]
  },
  {
   "cell_type": "code",
   "execution_count": 22,
   "id": "5e08727d",
   "metadata": {},
   "outputs": [
    {
     "data": {
      "text/html": [
       "\n",
       "        <iframe\n",
       "            width=\"950\"\n",
       "            height=\"700\"\n",
       "            src=\"./figures/G_nodetype_derived.svg\"\n",
       "            frameborder=\"0\"\n",
       "            allowfullscreen\n",
       "        ></iframe>\n",
       "        "
      ],
      "text/plain": [
       "<IPython.lib.display.IFrame at 0x7fae00e27c70>"
      ]
     },
     "metadata": {},
     "output_type": "display_data"
    }
   ],
   "source": [
    "print_and_render(G, 'G_nodetype_derived', node_2_style={n: style_node_type[type_] for n, type_ in nx.get_node_attributes(G, 'type_').items()}, height=700)"
   ]
  },
  {
   "cell_type": "code",
   "execution_count": null,
   "id": "fb063b42",
   "metadata": {},
   "outputs": [],
   "source": []
  }
 ],
 "metadata": {
  "kernelspec": {
   "display_name": "Python 3",
   "language": "python",
   "name": "python3"
  },
  "language_info": {
   "codemirror_mode": {
    "name": "ipython",
    "version": 3
   },
   "file_extension": ".py",
   "mimetype": "text/x-python",
   "name": "python",
   "nbconvert_exporter": "python",
   "pygments_lexer": "ipython3",
   "version": "3.8.2"
  }
 },
 "nbformat": 4,
 "nbformat_minor": 5
}
